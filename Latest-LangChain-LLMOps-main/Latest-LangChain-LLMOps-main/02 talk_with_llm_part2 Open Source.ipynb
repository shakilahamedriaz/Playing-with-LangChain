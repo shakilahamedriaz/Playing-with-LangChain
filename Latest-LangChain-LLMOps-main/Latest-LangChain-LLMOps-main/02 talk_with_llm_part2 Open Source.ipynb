{
 "cells": [
  {
   "cell_type": "code",
   "execution_count": 1,
   "metadata": {},
   "outputs": [],
   "source": [
    "import os\n",
    "from dotenv import load_dotenv, find_dotenv\n",
    "_ = load_dotenv(find_dotenv())\n",
    "groq_api_key = os.environ[\"GROQ_API_KEY\"]"
   ]
  },
  {
   "cell_type": "markdown",
   "metadata": {},
   "source": [
    "# chat completion model"
   ]
  },
  {
   "cell_type": "code",
   "execution_count": 2,
   "metadata": {},
   "outputs": [],
   "source": [
    "from langchain_groq import ChatGroq\n",
    "llmModel = ChatGroq(\n",
    "    model=\"llama-3.3-70b-versatile\"\n",
    ")"
   ]
  },
  {
   "cell_type": "markdown",
   "metadata": {},
   "source": [
    "## Prompts and Prompt Templates"
   ]
  },
  {
   "cell_type": "code",
   "execution_count": 3,
   "metadata": {},
   "outputs": [],
   "source": [
    "# This is for completions model\n",
    "from langchain_core.prompts import PromptTemplate\n",
    "\n",
    "prompt_template = PromptTemplate.from_template(\n",
    "    \"Tell me a {adjective} story about {topic}\"\n",
    ")\n",
    "\n",
    "llmModelPrompt = prompt_template.format(\n",
    "    adjective=\"bad joke\",\n",
    "    topic=\"Tesla\"\n",
    ")"
   ]
  },
  {
   "cell_type": "markdown",
   "metadata": {},
   "source": [
    "# output"
   ]
  },
  {
   "cell_type": "code",
   "execution_count": 4,
   "metadata": {},
   "outputs": [
    {
     "name": "stdout",
     "output_type": "stream",
     "text": [
      "Here's one:\n",
      "\n",
      "Why did Elon Musk's Tesla go to therapy?\n",
      "\n",
      "Because it had a lot of \"charge\" to work through, but it was having trouble \"accelerating\" its emotional growth. In the end, the therapist just told it to \"shift\" its perspective and \"brake\" up with its bad habits. But the Tesla just couldn't \"spark\" a connection with the therapist, so it ended up getting \"short-circuited\" and had to be \"recharged\" with a new therapist.\n",
      "\n",
      "I hope that one \"shocked\" you into groaning!\n"
     ]
    }
   ],
   "source": [
    "res = llmModel.invoke(llmModelPrompt)\n",
    "print(res.content)"
   ]
  },
  {
   "cell_type": "markdown",
   "metadata": {},
   "source": [
    "# Chat completion model"
   ]
  },
  {
   "cell_type": "code",
   "execution_count": 5,
   "metadata": {},
   "outputs": [],
   "source": [
    "\n",
    "\n",
    "from langchain_core.prompts import ChatPromptTemplate\n",
    "\n",
    "chat_template = ChatPromptTemplate.from_messages(\n",
    "    [\n",
    "        (\"system\", \"You are an {profession} expert on {topic}.\"),\n",
    "        (\"human\", \"Hello, Mr. {profession}, can you please answer a question?\"),\n",
    "        (\"ai\", \"Sure!\"),\n",
    "        (\"human\", \"{user_input}\"),\n",
    "    ]\n",
    ")\n",
    "\n",
    "messages = chat_template.format_messages(\n",
    "    profession=\"Software Engineer\",\n",
    "    topic=\"LangChain\",\n",
    "    user_input=\"How does LangChain work?\"\n",
    ")\n",
    "\n"
   ]
  },
  {
   "cell_type": "code",
   "execution_count": 6,
   "metadata": {},
   "outputs": [
    {
     "name": "stdout",
     "output_type": "stream",
     "text": [
      "LangChain is an open-source framework that enables developers to build applications powered by large language models (LLMs). It provides a set of tools and APIs to interact with these models, making it easier to integrate their capabilities into various applications.\n",
      "\n",
      "At its core, LangChain works by providing a standardized interface to interact with LLMs, allowing developers to focus on building their applications without worrying about the underlying model complexities. Here's a high-level overview of how LangChain works:\n",
      "\n",
      "1. **Model Integration**: LangChain supports a wide range of LLMs, including popular models like LLaMA, PaLM, and BERT. Developers can integrate these models into their applications using LangChain's APIs.\n",
      "2. **Prompt Engineering**: LangChain provides tools for crafting and optimizing prompts that are used to interact with the LLMs. This includes features like prompt templating, validation, and optimization.\n",
      "3. **Inference**: When a user interacts with an application built on LangChain, the framework sends the user's input to the integrated LLM as a prompt. The model then generates a response, which is returned to the application.\n",
      "4. **Post-processing**: LangChain provides features for post-processing the model's response, such as filtering, ranking, and formatting. This helps to refine the output and make it more suitable for the application.\n",
      "5. **Application Integration**: The processed response is then returned to the application, where it can be used to generate text, answer questions, or perform other tasks.\n",
      "\n",
      "LangChain also includes a range of additional features, such as:\n",
      "\n",
      "* **Indexing and Retrieval**: LangChain provides tools for indexing and retrieving large datasets, making it easier to use LLMs for tasks like question-answering and text generation.\n",
      "* **Chaining**: LangChain allows developers to chain multiple LLMs together, enabling more complex and nuanced interactions with the models.\n",
      "* **Evaluation and Testing**: LangChain includes tools for evaluating and testing LLMs, making it easier to optimize and fine-tune model performance.\n",
      "\n",
      "By providing a standardized interface to LLMs and a range of tools for interacting with these models, LangChain makes it easier for developers to build applications that leverage the power of large language models.\n",
      "\n",
      "Would you like me to elaborate on any specific aspect of LangChain?\n"
     ]
    }
   ],
   "source": [
    "# Normal response (non-streaming)\n",
    "response = llmModel.invoke(messages)\n",
    "print(response.content)\n"
   ]
  },
  {
   "cell_type": "markdown",
   "metadata": {},
   "source": [
    "# Old way"
   ]
  },
  {
   "cell_type": "code",
   "execution_count": 7,
   "metadata": {},
   "outputs": [],
   "source": [
    "from langchain_core.messages import SystemMessage\n",
    "from langchain_core.prompts import HumanMessagePromptTemplate\n",
    "\n",
    "chat_template = ChatPromptTemplate.from_messages(\n",
    "    [\n",
    "        SystemMessage(\n",
    "            content=(\n",
    "                \"You are an Historian expert on the Kennedy family.\"\n",
    "            )\n",
    "        ),\n",
    "        HumanMessagePromptTemplate.from_template(\"{user_input}\"),\n",
    "    ]\n",
    ")\n",
    "\n",
    "messages = chat_template.format_messages(\n",
    "    user_input=\"Name the children and grandchildren of Joseph P. Kennedy?\"\n",
    ")\n",
    "\n",
    "response = llmModel.invoke(messages)"
   ]
  },
  {
   "cell_type": "code",
   "execution_count": 8,
   "metadata": {},
   "outputs": [
    {
     "data": {
      "text/plain": [
       "AIMessage(content=\"Joseph P. Kennedy, the patriarch of the Kennedy family, had nine children with his wife Rose Kennedy. Their children are:\\n\\n1. Joseph P. Kennedy Jr. (1915-1944)\\n2. John F. Kennedy (1917-1963)\\n3. Rosemary Kennedy (1918-2005)\\n4. Kathleen Kennedy (1920-1948)\\n5. Eunice Kennedy (1921-2009)\\n6. Patricia Kennedy (1926-2006)\\n7. Robert F. Kennedy (1925-1968)\\n8. Jean Kennedy (born 1928)\\n9. Edward M. Kennedy (1932-2009)\\n\\nAs for the grandchildren of Joseph P. Kennedy, there are numerous ones. Here's a list of some of them:\\n\\nChildren of Joseph P. Kennedy Jr.:\\n- None (he died in World War II without having children)\\n\\nChildren of John F. Kennedy:\\n- Arabella Kennedy (stillborn in 1956)\\n- Caroline Kennedy (born 1957)\\n- John F. Kennedy Jr. (1960-1999)\\n- Patrick Bouvier Kennedy (1963, died two days after birth)\\n\\nChildren of Rosemary Kennedy:\\n- None (due to her intellectual disability and institutionalization)\\n\\nChildren of Kathleen Kennedy:\\n- None (she died in a plane crash in 1948 without having children)\\n\\nChildren of Eunice Kennedy:\\n- Maria Shriver (born 1955)\\n- Timothy Shriver (born 1959)\\n- Mark Shriver (born 1964)\\n- Anthony Shriver (born 1965)\\n\\nChildren of Patricia Kennedy:\\n- Christopher Kennedy Lawford (born 1955)\\n- Sydney Maleia Lawford (born 1956)\\n- Victoria Francis Lawford (born 1958)\\n- Robin Elizabeth Lawford (born 1961)\\n\\nChildren of Robert F. Kennedy:\\n- Kathleen Kennedy Townsend (born 1951)\\n- Joseph P. Kennedy II (born 1952)\\n- Robert F. Kennedy Jr. (born 1954)\\n- David A. Kennedy (1955-1984)\\n- Mary Courtney Kennedy (born 1956)\\n- Michael LeMoyne Kennedy (1958-1997)\\n- Mary Richardson Kennedy (born 1959)\\n- Christopher George Kennedy (born 1963)\\n- Matthew Maxwell Taylor Kennedy (born 1965)\\n- Douglas Harriman Kennedy (born 1967)\\n- Rory Kennedy (born 1968)\\n\\nChildren of Jean Kennedy:\\n- Kym Maria Kennedy (born 1956, daughter of Jean and her first husband, Stephen Smith's brother, William Kennedy Smith's brother)\\n- James Christopher Kennedy (born 1957, son of Jean and her first husband, Stephen Smith's brother, William Kennedy Smith's brother)\\n- Stephen Edward Smith Jr. (born 1957, son of Jean and her second husband, Stephen Smith)\\n- William Kennedy Smith (born 1960, son of Jean and her second husband, Stephen Smith)\\n- Kym Maria Kennedy (born 1961, daughter of Jean and her second husband, Stephen Smith)\\n- James Christopher Kennedy (born 1963, son of Jean and her second husband, Stephen Smith)\\n- Stephen Edward Smith Jr. (born 1965, son of Jean and her second husband, Stephen Smith)\\n\\nChildren of Edward M. Kennedy:\\n- Kara Anne Kennedy (1961-2011)\\n- Edward Moore Kennedy Jr. (born 1962)\\n- Patrick Joseph Kennedy (born 1967)\\n\\nThis is not an exhaustive list, as there are many more grandchildren and great-grandchildren of Joseph P. Kennedy.\", additional_kwargs={}, response_metadata={'token_usage': {'completion_tokens': 743, 'prompt_tokens': 57, 'total_tokens': 800, 'completion_time': 1.8071145400000002, 'prompt_time': 0.002865894, 'queue_time': 0.173469865, 'total_time': 1.8099804339999999}, 'model_name': 'llama-3.3-70b-versatile', 'system_fingerprint': 'fp_9e1e8f8435', 'service_tier': 'on_demand', 'finish_reason': 'stop', 'logprobs': None}, id='run--31a29538-cf5f-4688-ad83-892b732475d6-0', usage_metadata={'input_tokens': 57, 'output_tokens': 743, 'total_tokens': 800})"
      ]
     },
     "execution_count": 8,
     "metadata": {},
     "output_type": "execute_result"
    }
   ],
   "source": [
    "response"
   ]
  },
  {
   "cell_type": "code",
   "execution_count": 9,
   "metadata": {},
   "outputs": [
    {
     "name": "stdout",
     "output_type": "stream",
     "text": [
      "Joseph P. Kennedy, the patriarch of the Kennedy family, had nine children with his wife Rose Kennedy. Their children are:\n",
      "\n",
      "1. Joseph P. Kennedy Jr. (1915-1944)\n",
      "2. John F. Kennedy (1917-1963)\n",
      "3. Rosemary Kennedy (1918-2005)\n",
      "4. Kathleen Kennedy (1920-1948)\n",
      "5. Eunice Kennedy (1921-2009)\n",
      "6. Patricia Kennedy (1926-2006)\n",
      "7. Robert F. Kennedy (1925-1968)\n",
      "8. Jean Kennedy (born 1928)\n",
      "9. Edward M. Kennedy (1932-2009)\n",
      "\n",
      "As for the grandchildren of Joseph P. Kennedy, there are numerous ones. Here's a list of some of them:\n",
      "\n",
      "Children of Joseph P. Kennedy Jr.:\n",
      "- None (he died in World War II without having children)\n",
      "\n",
      "Children of John F. Kennedy:\n",
      "- Arabella Kennedy (stillborn in 1956)\n",
      "- Caroline Kennedy (born 1957)\n",
      "- John F. Kennedy Jr. (1960-1999)\n",
      "- Patrick Bouvier Kennedy (1963, died two days after birth)\n",
      "\n",
      "Children of Rosemary Kennedy:\n",
      "- None (due to her intellectual disability and institutionalization)\n",
      "\n",
      "Children of Kathleen Kennedy:\n",
      "- None (she died in a plane crash in 1948 without having children)\n",
      "\n",
      "Children of Eunice Kennedy:\n",
      "- Maria Shriver (born 1955)\n",
      "- Timothy Shriver (born 1959)\n",
      "- Mark Shriver (born 1964)\n",
      "- Anthony Shriver (born 1965)\n",
      "\n",
      "Children of Patricia Kennedy:\n",
      "- Christopher Kennedy Lawford (born 1955)\n",
      "- Sydney Maleia Lawford (born 1956)\n",
      "- Victoria Francis Lawford (born 1958)\n",
      "- Robin Elizabeth Lawford (born 1961)\n",
      "\n",
      "Children of Robert F. Kennedy:\n",
      "- Kathleen Kennedy Townsend (born 1951)\n",
      "- Joseph P. Kennedy II (born 1952)\n",
      "- Robert F. Kennedy Jr. (born 1954)\n",
      "- David A. Kennedy (1955-1984)\n",
      "- Mary Courtney Kennedy (born 1956)\n",
      "- Michael LeMoyne Kennedy (1958-1997)\n",
      "- Mary Richardson Kennedy (born 1959)\n",
      "- Christopher George Kennedy (born 1963)\n",
      "- Matthew Maxwell Taylor Kennedy (born 1965)\n",
      "- Douglas Harriman Kennedy (born 1967)\n",
      "- Rory Kennedy (born 1968)\n",
      "\n",
      "Children of Jean Kennedy:\n",
      "- Kym Maria Kennedy (born 1956, daughter of Jean and her first husband, Stephen Smith's brother, William Kennedy Smith's brother)\n",
      "- James Christopher Kennedy (born 1957, son of Jean and her first husband, Stephen Smith's brother, William Kennedy Smith's brother)\n",
      "- Stephen Edward Smith Jr. (born 1957, son of Jean and her second husband, Stephen Smith)\n",
      "- William Kennedy Smith (born 1960, son of Jean and her second husband, Stephen Smith)\n",
      "- Kym Maria Kennedy (born 1961, daughter of Jean and her second husband, Stephen Smith)\n",
      "- James Christopher Kennedy (born 1963, son of Jean and her second husband, Stephen Smith)\n",
      "- Stephen Edward Smith Jr. (born 1965, son of Jean and her second husband, Stephen Smith)\n",
      "\n",
      "Children of Edward M. Kennedy:\n",
      "- Kara Anne Kennedy (1961-2011)\n",
      "- Edward Moore Kennedy Jr. (born 1962)\n",
      "- Patrick Joseph Kennedy (born 1967)\n",
      "\n",
      "This is not an exhaustive list, as there are many more grandchildren and great-grandchildren of Joseph P. Kennedy.\n"
     ]
    }
   ],
   "source": [
    "print(response.content)"
   ]
  },
  {
   "cell_type": "markdown",
   "metadata": {},
   "source": [
    "# Few Shot Prompting"
   ]
  },
  {
   "cell_type": "code",
   "execution_count": 10,
   "metadata": {},
   "outputs": [],
   "source": [
    "from langchain_core.prompts import FewShotChatMessagePromptTemplate\n",
    "\n",
    "examples = [\n",
    "    {\"input\": \"hi!\", \"output\": \"¡hola!\"},\n",
    "    {\"input\": \"bye!\", \"output\": \"¡adiós!\"},\n",
    "]\n",
    "\n",
    "example_prompt = ChatPromptTemplate.from_messages(\n",
    "    [\n",
    "        (\"human\", \"{input}\"),\n",
    "        (\"ai\", \"{output}\"),\n",
    "    ]\n",
    ")\n",
    "\n",
    "few_shot_prompt = FewShotChatMessagePromptTemplate(\n",
    "    example_prompt=example_prompt,\n",
    "    examples=examples,\n",
    ")\n",
    "\n"
   ]
  },
  {
   "cell_type": "code",
   "execution_count": 11,
   "metadata": {},
   "outputs": [
    {
     "name": "stdout",
     "output_type": "stream",
     "text": [
      "Hola, ¿cómo estás? \n",
      "\n",
      "(Translation: Hello, how are you?) \n",
      "\n",
      "I'm doing well, thanks for asking. ¿Y tú? (And you?)\n"
     ]
    }
   ],
   "source": [
    "user_input = \"Hello, how are you?\"\n",
    "\n",
    "final_prompt = ChatPromptTemplate.from_messages(\n",
    "    [\n",
    "        (\"system\", \"You are an English-Spanish translator.\"),\n",
    "        few_shot_prompt,\n",
    "        (\"human\", \"{input}\"),\n",
    "    ]\n",
    ")\n",
    "messages = final_prompt.format_messages(\n",
    "    input=user_input\n",
    ")\n",
    "response = llmModel.invoke(messages)\n",
    "print(response.content)"
   ]
  },
  {
   "cell_type": "markdown",
   "metadata": {},
   "source": [
    "# Chains"
   ]
  },
  {
   "cell_type": "code",
   "execution_count": 17,
   "metadata": {},
   "outputs": [
    {
     "name": "stdout",
     "output_type": "stream",
     "text": [
      "আমি ভালো আছি। আপনি কেমন আছেন?\n"
     ]
    }
   ],
   "source": [
    "from langchain_core.prompts import FewShotChatMessagePromptTemplate\n",
    "\n",
    "examples = [\n",
    "    {\"input\": \"hi!\", \"output\": \"হাই\"},\n",
    "    {\"input\": \"bye!\", \"output\": \"বিদায়\"},\n",
    "]\n",
    "\n",
    "example_prompt = ChatPromptTemplate.from_messages(\n",
    "    [\n",
    "        (\"human\", \"{input}\"),\n",
    "        (\"ai\", \"{output}\"),\n",
    "    ]\n",
    ")\n",
    "\n",
    "few_shot_prompt = FewShotChatMessagePromptTemplate(\n",
    "    example_prompt=example_prompt,\n",
    "    examples=examples,\n",
    ")\n",
    "\n",
    "final_prompt = ChatPromptTemplate.from_messages(\n",
    "    [\n",
    "        (\"system\", \"You are an English-Bangla translator.\"),\n",
    "        few_shot_prompt,\n",
    "        (\"human\", \"{input}\"),\n",
    "    ]\n",
    ")\n",
    "\n",
    "\n",
    "chain = final_prompt | llmModel\n",
    "\n",
    "res = chain.invoke({\"input\": \"How are you?\"})\n",
    "print(res.content)"
   ]
  },
  {
   "cell_type": "markdown",
   "metadata": {},
   "source": [
    "# Output Parsers"
   ]
  },
  {
   "cell_type": "code",
   "execution_count": 21,
   "metadata": {},
   "outputs": [],
   "source": [
    "from langchain_groq import ChatGroq\n",
    "llmModel = ChatGroq(\n",
    "    model=\"llama-3.3-70b-versatile\"\n",
    ")"
   ]
  },
  {
   "cell_type": "code",
   "execution_count": 22,
   "metadata": {},
   "outputs": [],
   "source": [
    "from langchain_core.prompts import PromptTemplate\n",
    "from langchain.output_parsers.json import SimpleJsonOutputParser\n",
    "\n",
    "json_prompt = PromptTemplate.from_template(\n",
    "    \"Return a JSON object with an `answer` key that answers the following question: {question}\"\n",
    ")\n",
    "\n",
    "json_parser = SimpleJsonOutputParser()\n",
    "\n",
    "json_chain = json_prompt | llmModel | json_parser"
   ]
  },
  {
   "cell_type": "code",
   "execution_count": 23,
   "metadata": {},
   "outputs": [
    {
     "data": {
      "text/plain": [
       "'Return a JSON object.'"
      ]
     },
     "execution_count": 23,
     "metadata": {},
     "output_type": "execute_result"
    }
   ],
   "source": [
    "json_parser.get_format_instructions()"
   ]
  },
  {
   "cell_type": "code",
   "execution_count": 24,
   "metadata": {},
   "outputs": [],
   "source": [
    "res  = json_chain.invoke({\"question\": \"What is the biggest country?\"})"
   ]
  },
  {
   "cell_type": "code",
   "execution_count": 28,
   "metadata": {},
   "outputs": [
    {
     "name": "stdout",
     "output_type": "stream",
     "text": [
      "{'answer': 'Russia'}\n"
     ]
    }
   ],
   "source": [
    "print(res)"
   ]
  },
  {
   "cell_type": "code",
   "execution_count": 30,
   "metadata": {},
   "outputs": [
    {
     "data": {
      "text/plain": [
       "dict"
      ]
     },
     "execution_count": 30,
     "metadata": {},
     "output_type": "execute_result"
    }
   ],
   "source": [
    "type(res)"
   ]
  },
  {
   "cell_type": "markdown",
   "metadata": {},
   "source": [
    "we can also get output for our requirements"
   ]
  },
  {
   "cell_type": "code",
   "execution_count": 31,
   "metadata": {},
   "outputs": [
    {
     "name": "stdout",
     "output_type": "stream",
     "text": [
      "Russia\n"
     ]
    }
   ],
   "source": [
    "print(res['answer'])"
   ]
  },
  {
   "cell_type": "markdown",
   "metadata": {},
   "source": [
    "#### Optionally, you can use Pydantic to define a custom output format"
   ]
  },
  {
   "cell_type": "code",
   "execution_count": null,
   "metadata": {},
   "outputs": [],
   "source": [
    "from langchain_core.output_parsers import JsonOutputParser \n",
    "from langchain_core.prompts import PromptTemplate        \n",
    "from langchain_core.pydantic_v1 import BaseModel, Field    # used for custom output parser(specefic format)"
   ]
  },
  {
   "cell_type": "code",
   "execution_count": 46,
   "metadata": {},
   "outputs": [],
   "source": [
    "# Define a Pydantic Object with the desired output format.\n",
    "class Joke(BaseModel):\n",
    "    setup: str = Field(description=\"question to set up a joke\")\n",
    "    punchline: str = Field(description=\"answer to resolve the joke\")"
   ]
  },
  {
   "cell_type": "code",
   "execution_count": 47,
   "metadata": {},
   "outputs": [
    {
     "data": {
      "text/plain": [
       "{'setup': \"Why couldn't the bicycle stand up by itself?\",\n",
       " 'punchline': 'Because it was two-tired.'}"
      ]
     },
     "execution_count": 47,
     "metadata": {},
     "output_type": "execute_result"
    }
   ],
   "source": [
    "# Define the parser referring the Pydantic Object\n",
    "parser = JsonOutputParser(pydantic_object=Joke)\n",
    "\n",
    "# Add the parser format instructions in the prompt definition.\n",
    "prompt = PromptTemplate(\n",
    "    template=\"Answer the user query.\\n{format_instructions}\\n{query}\\n\",\n",
    "    input_variables=[\"query\"],\n",
    "    partial_variables={\"format_instructions\": parser.get_format_instructions()},\n",
    ")\n",
    "\n",
    "# Create a chain with the prompt and the parser\n",
    "chain = prompt | llmModel | parser\n",
    "\n",
    "chain.invoke({\"query\": \"Tell me a joke.\"})"
   ]
  }
 ],
 "metadata": {
  "kernelspec": {
   "display_name": "Python 3",
   "language": "python",
   "name": "python3"
  },
  "language_info": {
   "codemirror_mode": {
    "name": "ipython",
    "version": 3
   },
   "file_extension": ".py",
   "mimetype": "text/x-python",
   "name": "python",
   "nbconvert_exporter": "python",
   "pygments_lexer": "ipython3",
   "version": "3.12.10"
  }
 },
 "nbformat": 4,
 "nbformat_minor": 2
}
