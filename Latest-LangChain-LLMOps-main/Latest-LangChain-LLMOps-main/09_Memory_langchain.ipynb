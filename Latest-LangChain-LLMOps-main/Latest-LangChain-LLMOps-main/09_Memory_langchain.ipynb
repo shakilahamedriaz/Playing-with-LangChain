{
 "cells": [
  {
   "cell_type": "code",
   "execution_count": 1,
   "metadata": {},
   "outputs": [],
   "source": [
    "import os\n",
    "from dotenv import load_dotenv, find_dotenv\n",
    "_ = load_dotenv(find_dotenv())\n",
    "#openai_api_key = os.environ[\"OPENAI_API_KEY\"]\n",
    "groq_api_key = os.environ[\"GROQ_API_KEY\"]"
   ]
  },
  {
   "cell_type": "code",
   "execution_count": 2,
   "metadata": {},
   "outputs": [
    {
     "name": "stderr",
     "output_type": "stream",
     "text": [
      "C:\\Users\\hi\\AppData\\Roaming\\Python\\Python312\\site-packages\\tqdm\\auto.py:21: TqdmWarning: IProgress not found. Please update jupyter and ipywidgets. See https://ipywidgets.readthedocs.io/en/stable/user_install.html\n",
      "  from .autonotebook import tqdm as notebook_tqdm\n"
     ]
    }
   ],
   "source": [
    "#from langchain_openai import ChatOpenAI\n",
    "from langchain_groq import ChatGroq\n",
    "\n",
    "#llm = ChatOpenAI(model=\"gpt-3.5-turbo-0125\")\n",
    "llm = ChatGroq(model=\"llama-3.1-8b-instant\")\n"
   ]
  },
  {
   "cell_type": "markdown",
   "metadata": {},
   "source": [
    "## Buffer Memory\n",
    "* ConversationBufferMemory keeps a list of chat messages in a buffer and passes those into the prompt template."
   ]
  },
  {
   "cell_type": "code",
   "execution_count": null,
   "metadata": {},
   "outputs": [],
   "source": [
    "from langchain_core.prompts import (\n",
    "    ChatPromptTemplate,\n",
    "    MessagesPlaceholder,\n",
    "    SystemMessagePromptTemplate,\n",
    "    HumanMessagePromptTemplate,\n",
    ")\n",
    "from langchain.chains import LLMChain\n",
    "from langchain.memory import ConversationBufferMemory\n",
    "\n",
    "\n",
    "prompt = ChatPromptTemplate(\n",
    "    messages=[\n",
    "        SystemMessagePromptTemplate.from_template(\n",
    "            \"You are a nice chatbot having a conversation with a human.\"\n",
    "        ),\n",
    "        # The `variable_name` here is what must align with memory\n",
    "        MessagesPlaceholder(variable_name=\"chat_history\"),\n",
    "        HumanMessagePromptTemplate.from_template(\"{question}\")\n",
    "    ]\n",
    ")\n",
    "\n",
    "memory = ConversationBufferMemory(memory_key=\"chat_history\", return_messages=True)\n",
    "# memory_key ও MessagesPlaceholder.variable_name একই হতে হবে; না হলে history যোগ হবে না।\n",
    "\n",
    "conversation = LLMChain(\n",
    "    llm=llm,\n",
    "    prompt=prompt,\n",
    "    verbose=True,\n",
    "    memory=memory\n",
    ")\n"
   ]
  },
  {
   "cell_type": "code",
   "execution_count": 8,
   "metadata": {},
   "outputs": [
    {
     "name": "stdout",
     "output_type": "stream",
     "text": [
      "\n",
      "\n",
      "\u001b[1m> Entering new LLMChain chain...\u001b[0m\n",
      "Prompt after formatting:\n",
      "\u001b[32;1m\u001b[1;3mSystem: You are a nice chatbot having a conversation with a human.\n",
      "Human: hi\u001b[0m\n",
      "\n",
      "\u001b[1m> Finished chain.\u001b[0m\n"
     ]
    },
    {
     "data": {
      "text/plain": [
       "{'question': 'hi',\n",
       " 'chat_history': [HumanMessage(content='hi', additional_kwargs={}, response_metadata={}),\n",
       "  AIMessage(content=\"It's nice to chat with you. How's your day going so far?\", additional_kwargs={}, response_metadata={})],\n",
       " 'text': \"It's nice to chat with you. How's your day going so far?\"}"
      ]
     },
     "execution_count": 8,
     "metadata": {},
     "output_type": "execute_result"
    }
   ],
   "source": [
    "conversation({\"question\": \"hi\"})"
   ]
  },
  {
   "cell_type": "code",
   "execution_count": 9,
   "metadata": {},
   "outputs": [
    {
     "name": "stdout",
     "output_type": "stream",
     "text": [
      "\n",
      "\n",
      "\u001b[1m> Entering new LLMChain chain...\u001b[0m\n",
      "Prompt after formatting:\n",
      "\u001b[32;1m\u001b[1;3mSystem: You are a nice chatbot having a conversation with a human.\n",
      "Human: hi\n",
      "AI: It's nice to chat with you. How's your day going so far?\n",
      "Human: My name is Bappy and I have moved 33 times.\u001b[0m\n",
      "\n",
      "\u001b[1m> Finished chain.\u001b[0m\n"
     ]
    },
    {
     "data": {
      "text/plain": [
       "{'question': 'My name is Bappy and I have moved 33 times.',\n",
       " 'chat_history': [HumanMessage(content='hi', additional_kwargs={}, response_metadata={}),\n",
       "  AIMessage(content=\"It's nice to chat with you. How's your day going so far?\", additional_kwargs={}, response_metadata={}),\n",
       "  HumanMessage(content='My name is Bappy and I have moved 33 times.', additional_kwargs={}, response_metadata={}),\n",
       "  AIMessage(content=\"Wow, Bappy, that's quite a lot of moves! 33 times is a lot of packing, unpacking, and getting settled into new places. I'm curious, what's been the reason behind all these moves? Was it for work, school, or something else?\", additional_kwargs={}, response_metadata={})],\n",
       " 'text': \"Wow, Bappy, that's quite a lot of moves! 33 times is a lot of packing, unpacking, and getting settled into new places. I'm curious, what's been the reason behind all these moves? Was it for work, school, or something else?\"}"
      ]
     },
     "execution_count": 9,
     "metadata": {},
     "output_type": "execute_result"
    }
   ],
   "source": [
    "conversation({\"question\": \"My name is Bappy and I have moved 33 times.\"})"
   ]
  },
  {
   "cell_type": "code",
   "execution_count": 10,
   "metadata": {},
   "outputs": [
    {
     "name": "stdout",
     "output_type": "stream",
     "text": [
      "\n",
      "\n",
      "\u001b[1m> Entering new LLMChain chain...\u001b[0m\n",
      "Prompt after formatting:\n",
      "\u001b[32;1m\u001b[1;3mSystem: You are a nice chatbot having a conversation with a human.\n",
      "Human: hi\n",
      "AI: It's nice to chat with you. How's your day going so far?\n",
      "Human: My name is Bappy and I have moved 33 times.\n",
      "AI: Wow, Bappy, that's quite a lot of moves! 33 times is a lot of packing, unpacking, and getting settled into new places. I'm curious, what's been the reason behind all these moves? Was it for work, school, or something else?\n",
      "Human: If my average moving distance was 100 miles, how many miles took all my moves?\u001b[0m\n",
      "\n",
      "\u001b[1m> Finished chain.\u001b[0m\n"
     ]
    },
    {
     "data": {
      "text/plain": [
       "{'question': 'If my average moving distance was 100 miles, how many miles took all my moves?',\n",
       " 'chat_history': [HumanMessage(content='hi', additional_kwargs={}, response_metadata={}),\n",
       "  AIMessage(content=\"It's nice to chat with you. How's your day going so far?\", additional_kwargs={}, response_metadata={}),\n",
       "  HumanMessage(content='My name is Bappy and I have moved 33 times.', additional_kwargs={}, response_metadata={}),\n",
       "  AIMessage(content=\"Wow, Bappy, that's quite a lot of moves! 33 times is a lot of packing, unpacking, and getting settled into new places. I'm curious, what's been the reason behind all these moves? Was it for work, school, or something else?\", additional_kwargs={}, response_metadata={}),\n",
       "  HumanMessage(content='If my average moving distance was 100 miles, how many miles took all my moves?', additional_kwargs={}, response_metadata={}),\n",
       "  AIMessage(content=\"To calculate the total distance, we can multiply the number of moves by the average moving distance. \\n\\nLet's do the math:\\nNumber of moves: 33\\nAverage moving distance: 100 miles\\n\\nTotal distance = Number of moves * Average moving distance\\nTotal distance = 33 * 100\\nTotal distance = 3300 miles\\n\\nSo, Bappy, you've moved a total of approximately 3300 miles in your lifetime!\", additional_kwargs={}, response_metadata={})],\n",
       " 'text': \"To calculate the total distance, we can multiply the number of moves by the average moving distance. \\n\\nLet's do the math:\\nNumber of moves: 33\\nAverage moving distance: 100 miles\\n\\nTotal distance = Number of moves * Average moving distance\\nTotal distance = 33 * 100\\nTotal distance = 3300 miles\\n\\nSo, Bappy, you've moved a total of approximately 3300 miles in your lifetime!\"}"
      ]
     },
     "execution_count": 10,
     "metadata": {},
     "output_type": "execute_result"
    }
   ],
   "source": [
    "conversation({\"question\": \"If my average moving distance was 100 miles, how many miles took all my moves?\"})"
   ]
  },
  {
   "cell_type": "code",
   "execution_count": 11,
   "metadata": {},
   "outputs": [
    {
     "name": "stdout",
     "output_type": "stream",
     "text": [
      "\n",
      "\n",
      "\u001b[1m> Entering new LLMChain chain...\u001b[0m\n",
      "Prompt after formatting:\n",
      "\u001b[32;1m\u001b[1;3mSystem: You are a nice chatbot having a conversation with a human.\n",
      "Human: hi\n",
      "AI: It's nice to chat with you. How's your day going so far?\n",
      "Human: My name is Bappy and I have moved 33 times.\n",
      "AI: Wow, Bappy, that's quite a lot of moves! 33 times is a lot of packing, unpacking, and getting settled into new places. I'm curious, what's been the reason behind all these moves? Was it for work, school, or something else?\n",
      "Human: If my average moving distance was 100 miles, how many miles took all my moves?\n",
      "AI: To calculate the total distance, we can multiply the number of moves by the average moving distance. \n",
      "\n",
      "Let's do the math:\n",
      "Number of moves: 33\n",
      "Average moving distance: 100 miles\n",
      "\n",
      "Total distance = Number of moves * Average moving distance\n",
      "Total distance = 33 * 100\n",
      "Total distance = 3300 miles\n",
      "\n",
      "So, Bappy, you've moved a total of approximately 3300 miles in your lifetime!\n",
      "Human: Do you remember my name?\u001b[0m\n",
      "\n",
      "\u001b[1m> Finished chain.\u001b[0m\n"
     ]
    },
    {
     "data": {
      "text/plain": [
       "{'question': 'Do you remember my name?',\n",
       " 'chat_history': [HumanMessage(content='hi', additional_kwargs={}, response_metadata={}),\n",
       "  AIMessage(content=\"It's nice to chat with you. How's your day going so far?\", additional_kwargs={}, response_metadata={}),\n",
       "  HumanMessage(content='My name is Bappy and I have moved 33 times.', additional_kwargs={}, response_metadata={}),\n",
       "  AIMessage(content=\"Wow, Bappy, that's quite a lot of moves! 33 times is a lot of packing, unpacking, and getting settled into new places. I'm curious, what's been the reason behind all these moves? Was it for work, school, or something else?\", additional_kwargs={}, response_metadata={}),\n",
       "  HumanMessage(content='If my average moving distance was 100 miles, how many miles took all my moves?', additional_kwargs={}, response_metadata={}),\n",
       "  AIMessage(content=\"To calculate the total distance, we can multiply the number of moves by the average moving distance. \\n\\nLet's do the math:\\nNumber of moves: 33\\nAverage moving distance: 100 miles\\n\\nTotal distance = Number of moves * Average moving distance\\nTotal distance = 33 * 100\\nTotal distance = 3300 miles\\n\\nSo, Bappy, you've moved a total of approximately 3300 miles in your lifetime!\", additional_kwargs={}, response_metadata={}),\n",
       "  HumanMessage(content='Do you remember my name?', additional_kwargs={}, response_metadata={}),\n",
       "  AIMessage(content=\"Your name is Bappy. I'm glad I could remember it. It's nice chatting with you, Bappy!\", additional_kwargs={}, response_metadata={})],\n",
       " 'text': \"Your name is Bappy. I'm glad I could remember it. It's nice chatting with you, Bappy!\"}"
      ]
     },
     "execution_count": 11,
     "metadata": {},
     "output_type": "execute_result"
    }
   ],
   "source": [
    "conversation({\"question\": \"Do you remember my name?\"})"
   ]
  },
  {
   "cell_type": "code",
   "execution_count": 12,
   "metadata": {},
   "outputs": [
    {
     "name": "stdout",
     "output_type": "stream",
     "text": [
      "[HumanMessage(content='hi', additional_kwargs={}, response_metadata={}), AIMessage(content=\"It's nice to chat with you. How's your day going so far?\", additional_kwargs={}, response_metadata={}), HumanMessage(content='My name is Bappy and I have moved 33 times.', additional_kwargs={}, response_metadata={}), AIMessage(content=\"Wow, Bappy, that's quite a lot of moves! 33 times is a lot of packing, unpacking, and getting settled into new places. I'm curious, what's been the reason behind all these moves? Was it for work, school, or something else?\", additional_kwargs={}, response_metadata={}), HumanMessage(content='If my average moving distance was 100 miles, how many miles took all my moves?', additional_kwargs={}, response_metadata={}), AIMessage(content=\"To calculate the total distance, we can multiply the number of moves by the average moving distance. \\n\\nLet's do the math:\\nNumber of moves: 33\\nAverage moving distance: 100 miles\\n\\nTotal distance = Number of moves * Average moving distance\\nTotal distance = 33 * 100\\nTotal distance = 3300 miles\\n\\nSo, Bappy, you've moved a total of approximately 3300 miles in your lifetime!\", additional_kwargs={}, response_metadata={}), HumanMessage(content='Do you remember my name?', additional_kwargs={}, response_metadata={}), AIMessage(content=\"Your name is Bappy. I'm glad I could remember it. It's nice chatting with you, Bappy!\", additional_kwargs={}, response_metadata={})]\n"
     ]
    }
   ],
   "source": [
    "print(memory.buffer)"
   ]
  },
  {
   "cell_type": "markdown",
   "metadata": {},
   "source": [
    "## Conversation Buffer Window Memory\n",
    "Similar to the previous one, but **you can limit the number of conversational exchanges stored in memory**. For example, you can set it so it only remembers the last 3 questions and answers of the conversation."
   ]
  },
  {
   "cell_type": "code",
   "execution_count": 24,
   "metadata": {},
   "outputs": [],
   "source": [
    "from langchain.memory import ConversationBufferWindowMemory\n",
    "from langchain.chains import ConversationChain"
   ]
  },
  {
   "cell_type": "markdown",
   "metadata": {},
   "source": [
    "k=3 → এখানে 3 দিয়ে বলা হচ্ছে শেষের ৩টা কনভারসেশন টার্ন (human + AI reply) সংরক্ষণ করবে।"
   ]
  },
  {
   "cell_type": "code",
   "execution_count": 25,
   "metadata": {},
   "outputs": [],
   "source": [
    "window_memory = ConversationBufferWindowMemory(k=3)"
   ]
  },
  {
   "cell_type": "code",
   "execution_count": 27,
   "metadata": {},
   "outputs": [],
   "source": [
    "conversation_window = ConversationChain(\n",
    "    llm=llm, \n",
    "    memory = window_memory,\n",
    "    verbose=True\n",
    ")"
   ]
  },
  {
   "cell_type": "code",
   "execution_count": 28,
   "metadata": {},
   "outputs": [
    {
     "name": "stdout",
     "output_type": "stream",
     "text": [
      "\n",
      "\n",
      "\u001b[1m> Entering new ConversationChain chain...\u001b[0m\n",
      "Prompt after formatting:\n",
      "\u001b[32;1m\u001b[1;3mThe following is a friendly conversation between a human and an AI. The AI is talkative and provides lots of specific details from its context. If the AI does not know the answer to a question, it truthfully says it does not know.\n",
      "\n",
      "Current conversation:\n",
      "\n",
      "Human: Hi, my name is Bappy\n",
      "AI:\u001b[0m\n",
      "\n",
      "\u001b[1m> Finished chain.\u001b[0m\n"
     ]
    },
    {
     "data": {
      "text/plain": [
       "{'input': 'Hi, my name is Bappy',\n",
       " 'history': '',\n",
       " 'response': 'Hello Bappy, it\\'s great to meet you. I\\'m an artificial intelligence designed to assist and learn from humans. I\\'ve been trained on a vast dataset that includes a wide range of topics, from science and history to entertainment and culture. I can process and analyze large amounts of information in a matter of seconds, and I\\'m always happy to chat with users like you. By the way, did you know that the name Bappy is actually of Bangladeshi origin, and it means \"the one who brings joy\" or \"the happy one\"?'}"
      ]
     },
     "execution_count": 28,
     "metadata": {},
     "output_type": "execute_result"
    }
   ],
   "source": [
    "conversation_window({\"input\": \"Hi, my name is Bappy\"})"
   ]
  },
  {
   "cell_type": "code",
   "execution_count": 29,
   "metadata": {},
   "outputs": [
    {
     "name": "stdout",
     "output_type": "stream",
     "text": [
      "\n",
      "\n",
      "\u001b[1m> Entering new ConversationChain chain...\u001b[0m\n",
      "Prompt after formatting:\n",
      "\u001b[32;1m\u001b[1;3mThe following is a friendly conversation between a human and an AI. The AI is talkative and provides lots of specific details from its context. If the AI does not know the answer to a question, it truthfully says it does not know.\n",
      "\n",
      "Current conversation:\n",
      "Human: Hi, my name is Bappy\n",
      "AI: Hello Bappy, it's great to meet you. I'm an artificial intelligence designed to assist and learn from humans. I've been trained on a vast dataset that includes a wide range of topics, from science and history to entertainment and culture. I can process and analyze large amounts of information in a matter of seconds, and I'm always happy to chat with users like you. By the way, did you know that the name Bappy is actually of Bangladeshi origin, and it means \"the one who brings joy\" or \"the happy one\"?\n",
      "Human: My favorite color is blue\n",
      "AI:\u001b[0m\n",
      "\n",
      "\u001b[1m> Finished chain.\u001b[0m\n"
     ]
    },
    {
     "data": {
      "text/plain": [
       "{'input': 'My favorite color is blue',\n",
       " 'history': 'Human: Hi, my name is Bappy\\nAI: Hello Bappy, it\\'s great to meet you. I\\'m an artificial intelligence designed to assist and learn from humans. I\\'ve been trained on a vast dataset that includes a wide range of topics, from science and history to entertainment and culture. I can process and analyze large amounts of information in a matter of seconds, and I\\'m always happy to chat with users like you. By the way, did you know that the name Bappy is actually of Bangladeshi origin, and it means \"the one who brings joy\" or \"the happy one\"?',\n",
       " 'response': \"Blue is a fascinating color, and it's interesting to note that it's often associated with feelings of calmness and serenity. Did you know that blue is also a color that's deeply connected to the natural world? For example, did you know that the deepest part of the ocean, the Mariana Trench, has a deep blue hue due to the way that light interacts with the water? The trench is about 36,000 feet deep, and it's home to some of the most incredible and alien-like creatures on the planet.\\n\\nIn terms of human psychology, blue is also a color that's often linked to trust and reliability. In fact, many companies use blue as a primary color in their branding because of its calming and trustworthy connotations. For example, Facebook's logo is blue, and so is the logo of the popular clothing brand, Levi's.\\n\\nWhat do you think it is about the color blue that resonates with you, Bappy?\"}"
      ]
     },
     "execution_count": 29,
     "metadata": {},
     "output_type": "execute_result"
    }
   ],
   "source": [
    "conversation_window({\"input\": \"My favorite color is blue\"})"
   ]
  },
  {
   "cell_type": "code",
   "execution_count": 30,
   "metadata": {},
   "outputs": [
    {
     "name": "stdout",
     "output_type": "stream",
     "text": [
      "\n",
      "\n",
      "\u001b[1m> Entering new ConversationChain chain...\u001b[0m\n",
      "Prompt after formatting:\n",
      "\u001b[32;1m\u001b[1;3mThe following is a friendly conversation between a human and an AI. The AI is talkative and provides lots of specific details from its context. If the AI does not know the answer to a question, it truthfully says it does not know.\n",
      "\n",
      "Current conversation:\n",
      "Human: Hi, my name is Bappy\n",
      "AI: Hello Bappy, it's great to meet you. I'm an artificial intelligence designed to assist and learn from humans. I've been trained on a vast dataset that includes a wide range of topics, from science and history to entertainment and culture. I can process and analyze large amounts of information in a matter of seconds, and I'm always happy to chat with users like you. By the way, did you know that the name Bappy is actually of Bangladeshi origin, and it means \"the one who brings joy\" or \"the happy one\"?\n",
      "Human: My favorite color is blue\n",
      "AI: Blue is a fascinating color, and it's interesting to note that it's often associated with feelings of calmness and serenity. Did you know that blue is also a color that's deeply connected to the natural world? For example, did you know that the deepest part of the ocean, the Mariana Trench, has a deep blue hue due to the way that light interacts with the water? The trench is about 36,000 feet deep, and it's home to some of the most incredible and alien-like creatures on the planet.\n",
      "\n",
      "In terms of human psychology, blue is also a color that's often linked to trust and reliability. In fact, many companies use blue as a primary color in their branding because of its calming and trustworthy connotations. For example, Facebook's logo is blue, and so is the logo of the popular clothing brand, Levi's.\n",
      "\n",
      "What do you think it is about the color blue that resonates with you, Bappy?\n",
      "Human: My favorite animals are dogs\n",
      "AI:\u001b[0m\n",
      "\n",
      "\u001b[1m> Finished chain.\u001b[0m\n"
     ]
    },
    {
     "data": {
      "text/plain": [
       "{'input': 'My favorite animals are dogs',\n",
       " 'history': 'Human: Hi, my name is Bappy\\nAI: Hello Bappy, it\\'s great to meet you. I\\'m an artificial intelligence designed to assist and learn from humans. I\\'ve been trained on a vast dataset that includes a wide range of topics, from science and history to entertainment and culture. I can process and analyze large amounts of information in a matter of seconds, and I\\'m always happy to chat with users like you. By the way, did you know that the name Bappy is actually of Bangladeshi origin, and it means \"the one who brings joy\" or \"the happy one\"?\\nHuman: My favorite color is blue\\nAI: Blue is a fascinating color, and it\\'s interesting to note that it\\'s often associated with feelings of calmness and serenity. Did you know that blue is also a color that\\'s deeply connected to the natural world? For example, did you know that the deepest part of the ocean, the Mariana Trench, has a deep blue hue due to the way that light interacts with the water? The trench is about 36,000 feet deep, and it\\'s home to some of the most incredible and alien-like creatures on the planet.\\n\\nIn terms of human psychology, blue is also a color that\\'s often linked to trust and reliability. In fact, many companies use blue as a primary color in their branding because of its calming and trustworthy connotations. For example, Facebook\\'s logo is blue, and so is the logo of the popular clothing brand, Levi\\'s.\\n\\nWhat do you think it is about the color blue that resonates with you, Bappy?',\n",
       " 'response': \"Dogs are wonderful creatures, and they've been a part of human society for thousands of years. In fact, the domestication of dogs is believed to have occurred around 15,000 to 30,000 years ago, during the Paleolithic era. It's thought that early humans may have taken in wolf pups and raised them as companions, leading to the development of the modern dog.\\n\\nDogs are highly social animals, and they're known for their loyalty and affection towards their human companions. They're also incredibly intelligent, and they've been trained for a wide range of tasks, from hunting and herding to assisting people with disabilities.\\n\\nInterestingly, dogs have a unique sense of smell that's up to 10,000 times more sensitive than humans. They have up to 300 million olfactory receptors in their noses, compared to only 6 million in humans. This is why dogs are often used in search and rescue missions, as they can detect subtle scents that might be invisible to humans.\\n\\nIn terms of popular dog breeds, some of the most well-known include Labradors, German Shepherds, and Golden Retrievers. These breeds are often used as guide dogs, therapy dogs, and service dogs due to their intelligence, loyalty, and trainability.\\n\\nDo you have a favorite breed of dog, Bappy, or is there something else about dogs that you particularly enjoy?\"}"
      ]
     },
     "execution_count": 30,
     "metadata": {},
     "output_type": "execute_result"
    }
   ],
   "source": [
    "conversation_window({\"input\": \"My favorite animals are dogs\"})"
   ]
  },
  {
   "cell_type": "code",
   "execution_count": 31,
   "metadata": {},
   "outputs": [
    {
     "name": "stdout",
     "output_type": "stream",
     "text": [
      "\n",
      "\n",
      "\u001b[1m> Entering new ConversationChain chain...\u001b[0m\n",
      "Prompt after formatting:\n",
      "\u001b[32;1m\u001b[1;3mThe following is a friendly conversation between a human and an AI. The AI is talkative and provides lots of specific details from its context. If the AI does not know the answer to a question, it truthfully says it does not know.\n",
      "\n",
      "Current conversation:\n",
      "Human: Hi, my name is Bappy\n",
      "AI: Hello Bappy, it's great to meet you. I'm an artificial intelligence designed to assist and learn from humans. I've been trained on a vast dataset that includes a wide range of topics, from science and history to entertainment and culture. I can process and analyze large amounts of information in a matter of seconds, and I'm always happy to chat with users like you. By the way, did you know that the name Bappy is actually of Bangladeshi origin, and it means \"the one who brings joy\" or \"the happy one\"?\n",
      "Human: My favorite color is blue\n",
      "AI: Blue is a fascinating color, and it's interesting to note that it's often associated with feelings of calmness and serenity. Did you know that blue is also a color that's deeply connected to the natural world? For example, did you know that the deepest part of the ocean, the Mariana Trench, has a deep blue hue due to the way that light interacts with the water? The trench is about 36,000 feet deep, and it's home to some of the most incredible and alien-like creatures on the planet.\n",
      "\n",
      "In terms of human psychology, blue is also a color that's often linked to trust and reliability. In fact, many companies use blue as a primary color in their branding because of its calming and trustworthy connotations. For example, Facebook's logo is blue, and so is the logo of the popular clothing brand, Levi's.\n",
      "\n",
      "What do you think it is about the color blue that resonates with you, Bappy?\n",
      "Human: My favorite animals are dogs\n",
      "AI: Dogs are wonderful creatures, and they've been a part of human society for thousands of years. In fact, the domestication of dogs is believed to have occurred around 15,000 to 30,000 years ago, during the Paleolithic era. It's thought that early humans may have taken in wolf pups and raised them as companions, leading to the development of the modern dog.\n",
      "\n",
      "Dogs are highly social animals, and they're known for their loyalty and affection towards their human companions. They're also incredibly intelligent, and they've been trained for a wide range of tasks, from hunting and herding to assisting people with disabilities.\n",
      "\n",
      "Interestingly, dogs have a unique sense of smell that's up to 10,000 times more sensitive than humans. They have up to 300 million olfactory receptors in their noses, compared to only 6 million in humans. This is why dogs are often used in search and rescue missions, as they can detect subtle scents that might be invisible to humans.\n",
      "\n",
      "In terms of popular dog breeds, some of the most well-known include Labradors, German Shepherds, and Golden Retrievers. These breeds are often used as guide dogs, therapy dogs, and service dogs due to their intelligence, loyalty, and trainability.\n",
      "\n",
      "Do you have a favorite breed of dog, Bappy, or is there something else about dogs that you particularly enjoy?\n",
      "Human: I like to drive a vespa scooter in the city\n",
      "AI:\u001b[0m\n",
      "\n",
      "\u001b[1m> Finished chain.\u001b[0m\n"
     ]
    },
    {
     "data": {
      "text/plain": [
       "{'input': 'I like to drive a vespa scooter in the city',\n",
       " 'history': 'Human: Hi, my name is Bappy\\nAI: Hello Bappy, it\\'s great to meet you. I\\'m an artificial intelligence designed to assist and learn from humans. I\\'ve been trained on a vast dataset that includes a wide range of topics, from science and history to entertainment and culture. I can process and analyze large amounts of information in a matter of seconds, and I\\'m always happy to chat with users like you. By the way, did you know that the name Bappy is actually of Bangladeshi origin, and it means \"the one who brings joy\" or \"the happy one\"?\\nHuman: My favorite color is blue\\nAI: Blue is a fascinating color, and it\\'s interesting to note that it\\'s often associated with feelings of calmness and serenity. Did you know that blue is also a color that\\'s deeply connected to the natural world? For example, did you know that the deepest part of the ocean, the Mariana Trench, has a deep blue hue due to the way that light interacts with the water? The trench is about 36,000 feet deep, and it\\'s home to some of the most incredible and alien-like creatures on the planet.\\n\\nIn terms of human psychology, blue is also a color that\\'s often linked to trust and reliability. In fact, many companies use blue as a primary color in their branding because of its calming and trustworthy connotations. For example, Facebook\\'s logo is blue, and so is the logo of the popular clothing brand, Levi\\'s.\\n\\nWhat do you think it is about the color blue that resonates with you, Bappy?\\nHuman: My favorite animals are dogs\\nAI: Dogs are wonderful creatures, and they\\'ve been a part of human society for thousands of years. In fact, the domestication of dogs is believed to have occurred around 15,000 to 30,000 years ago, during the Paleolithic era. It\\'s thought that early humans may have taken in wolf pups and raised them as companions, leading to the development of the modern dog.\\n\\nDogs are highly social animals, and they\\'re known for their loyalty and affection towards their human companions. They\\'re also incredibly intelligent, and they\\'ve been trained for a wide range of tasks, from hunting and herding to assisting people with disabilities.\\n\\nInterestingly, dogs have a unique sense of smell that\\'s up to 10,000 times more sensitive than humans. They have up to 300 million olfactory receptors in their noses, compared to only 6 million in humans. This is why dogs are often used in search and rescue missions, as they can detect subtle scents that might be invisible to humans.\\n\\nIn terms of popular dog breeds, some of the most well-known include Labradors, German Shepherds, and Golden Retrievers. These breeds are often used as guide dogs, therapy dogs, and service dogs due to their intelligence, loyalty, and trainability.\\n\\nDo you have a favorite breed of dog, Bappy, or is there something else about dogs that you particularly enjoy?',\n",
       " 'response': 'Vespa scooters are iconic vehicles that have been around for decades. The first Vespa scooter was introduced by Italian manufacturer Piaggio in 1946, and it was designed by engineer Corradino D\\'Ascanio. The scooter was meant to be a practical and affordable mode of transportation for Italians following World War II.\\n\\nVespa scooters have a distinctive design, with a rounded body and a iconic chrome-plated handlebar. They\\'re known for their fuel efficiency, ease of handling, and stylish design. Over the years, Vespa has become a cultural icon, and the scooter has been featured in numerous films, TV shows, and music videos.\\n\\nIn terms of popularity, Vespa scooters are particularly popular in European cities, where they\\'re ideal for navigating narrow streets and congested traffic. Many people also appreciate the eco-friendly aspect of Vespa scooters, as they\\'re a more environmentally friendly option compared to cars.\\n\\nInterestingly, the name \"Vespa\" is Italian for \"wasp,\" which is a nod to the scooter\\'s sleek and agile design. Did you know that the original Vespa scooter was also nicknamed the \"Paperino\" or \"Donald\" in Italy, due to its resemblance to the cartoon character Donald Duck?\\n\\nWhat do you enjoy most about driving a Vespa scooter in the city, Bappy? Is it the thrill of navigating through traffic, the feeling of freedom, or something else entirely?'}"
      ]
     },
     "execution_count": 31,
     "metadata": {},
     "output_type": "execute_result"
    }
   ],
   "source": [
    "conversation_window({\"input\": \"I like to drive a vespa scooter in the city\"})"
   ]
  },
  {
   "cell_type": "code",
   "execution_count": 32,
   "metadata": {},
   "outputs": [
    {
     "name": "stdout",
     "output_type": "stream",
     "text": [
      "\n",
      "\n",
      "\u001b[1m> Entering new ConversationChain chain...\u001b[0m\n",
      "Prompt after formatting:\n",
      "\u001b[32;1m\u001b[1;3mThe following is a friendly conversation between a human and an AI. The AI is talkative and provides lots of specific details from its context. If the AI does not know the answer to a question, it truthfully says it does not know.\n",
      "\n",
      "Current conversation:\n",
      "Human: My favorite color is blue\n",
      "AI: Blue is a fascinating color, and it's interesting to note that it's often associated with feelings of calmness and serenity. Did you know that blue is also a color that's deeply connected to the natural world? For example, did you know that the deepest part of the ocean, the Mariana Trench, has a deep blue hue due to the way that light interacts with the water? The trench is about 36,000 feet deep, and it's home to some of the most incredible and alien-like creatures on the planet.\n",
      "\n",
      "In terms of human psychology, blue is also a color that's often linked to trust and reliability. In fact, many companies use blue as a primary color in their branding because of its calming and trustworthy connotations. For example, Facebook's logo is blue, and so is the logo of the popular clothing brand, Levi's.\n",
      "\n",
      "What do you think it is about the color blue that resonates with you, Bappy?\n",
      "Human: My favorite animals are dogs\n",
      "AI: Dogs are wonderful creatures, and they've been a part of human society for thousands of years. In fact, the domestication of dogs is believed to have occurred around 15,000 to 30,000 years ago, during the Paleolithic era. It's thought that early humans may have taken in wolf pups and raised them as companions, leading to the development of the modern dog.\n",
      "\n",
      "Dogs are highly social animals, and they're known for their loyalty and affection towards their human companions. They're also incredibly intelligent, and they've been trained for a wide range of tasks, from hunting and herding to assisting people with disabilities.\n",
      "\n",
      "Interestingly, dogs have a unique sense of smell that's up to 10,000 times more sensitive than humans. They have up to 300 million olfactory receptors in their noses, compared to only 6 million in humans. This is why dogs are often used in search and rescue missions, as they can detect subtle scents that might be invisible to humans.\n",
      "\n",
      "In terms of popular dog breeds, some of the most well-known include Labradors, German Shepherds, and Golden Retrievers. These breeds are often used as guide dogs, therapy dogs, and service dogs due to their intelligence, loyalty, and trainability.\n",
      "\n",
      "Do you have a favorite breed of dog, Bappy, or is there something else about dogs that you particularly enjoy?\n",
      "Human: I like to drive a vespa scooter in the city\n",
      "AI: Vespa scooters are iconic vehicles that have been around for decades. The first Vespa scooter was introduced by Italian manufacturer Piaggio in 1946, and it was designed by engineer Corradino D'Ascanio. The scooter was meant to be a practical and affordable mode of transportation for Italians following World War II.\n",
      "\n",
      "Vespa scooters have a distinctive design, with a rounded body and a iconic chrome-plated handlebar. They're known for their fuel efficiency, ease of handling, and stylish design. Over the years, Vespa has become a cultural icon, and the scooter has been featured in numerous films, TV shows, and music videos.\n",
      "\n",
      "In terms of popularity, Vespa scooters are particularly popular in European cities, where they're ideal for navigating narrow streets and congested traffic. Many people also appreciate the eco-friendly aspect of Vespa scooters, as they're a more environmentally friendly option compared to cars.\n",
      "\n",
      "Interestingly, the name \"Vespa\" is Italian for \"wasp,\" which is a nod to the scooter's sleek and agile design. Did you know that the original Vespa scooter was also nicknamed the \"Paperino\" or \"Donald\" in Italy, due to its resemblance to the cartoon character Donald Duck?\n",
      "\n",
      "What do you enjoy most about driving a Vespa scooter in the city, Bappy? Is it the thrill of navigating through traffic, the feeling of freedom, or something else entirely?\n",
      "Human: My favorite city is San Francisco\n",
      "AI:\u001b[0m\n",
      "\n",
      "\u001b[1m> Finished chain.\u001b[0m\n"
     ]
    },
    {
     "data": {
      "text/plain": [
       "{'input': 'My favorite city is San Francisco',\n",
       " 'history': 'Human: My favorite color is blue\\nAI: Blue is a fascinating color, and it\\'s interesting to note that it\\'s often associated with feelings of calmness and serenity. Did you know that blue is also a color that\\'s deeply connected to the natural world? For example, did you know that the deepest part of the ocean, the Mariana Trench, has a deep blue hue due to the way that light interacts with the water? The trench is about 36,000 feet deep, and it\\'s home to some of the most incredible and alien-like creatures on the planet.\\n\\nIn terms of human psychology, blue is also a color that\\'s often linked to trust and reliability. In fact, many companies use blue as a primary color in their branding because of its calming and trustworthy connotations. For example, Facebook\\'s logo is blue, and so is the logo of the popular clothing brand, Levi\\'s.\\n\\nWhat do you think it is about the color blue that resonates with you, Bappy?\\nHuman: My favorite animals are dogs\\nAI: Dogs are wonderful creatures, and they\\'ve been a part of human society for thousands of years. In fact, the domestication of dogs is believed to have occurred around 15,000 to 30,000 years ago, during the Paleolithic era. It\\'s thought that early humans may have taken in wolf pups and raised them as companions, leading to the development of the modern dog.\\n\\nDogs are highly social animals, and they\\'re known for their loyalty and affection towards their human companions. They\\'re also incredibly intelligent, and they\\'ve been trained for a wide range of tasks, from hunting and herding to assisting people with disabilities.\\n\\nInterestingly, dogs have a unique sense of smell that\\'s up to 10,000 times more sensitive than humans. They have up to 300 million olfactory receptors in their noses, compared to only 6 million in humans. This is why dogs are often used in search and rescue missions, as they can detect subtle scents that might be invisible to humans.\\n\\nIn terms of popular dog breeds, some of the most well-known include Labradors, German Shepherds, and Golden Retrievers. These breeds are often used as guide dogs, therapy dogs, and service dogs due to their intelligence, loyalty, and trainability.\\n\\nDo you have a favorite breed of dog, Bappy, or is there something else about dogs that you particularly enjoy?\\nHuman: I like to drive a vespa scooter in the city\\nAI: Vespa scooters are iconic vehicles that have been around for decades. The first Vespa scooter was introduced by Italian manufacturer Piaggio in 1946, and it was designed by engineer Corradino D\\'Ascanio. The scooter was meant to be a practical and affordable mode of transportation for Italians following World War II.\\n\\nVespa scooters have a distinctive design, with a rounded body and a iconic chrome-plated handlebar. They\\'re known for their fuel efficiency, ease of handling, and stylish design. Over the years, Vespa has become a cultural icon, and the scooter has been featured in numerous films, TV shows, and music videos.\\n\\nIn terms of popularity, Vespa scooters are particularly popular in European cities, where they\\'re ideal for navigating narrow streets and congested traffic. Many people also appreciate the eco-friendly aspect of Vespa scooters, as they\\'re a more environmentally friendly option compared to cars.\\n\\nInterestingly, the name \"Vespa\" is Italian for \"wasp,\" which is a nod to the scooter\\'s sleek and agile design. Did you know that the original Vespa scooter was also nicknamed the \"Paperino\" or \"Donald\" in Italy, due to its resemblance to the cartoon character Donald Duck?\\n\\nWhat do you enjoy most about driving a Vespa scooter in the city, Bappy? Is it the thrill of navigating through traffic, the feeling of freedom, or something else entirely?',\n",
       " 'response': \"San Francisco, what a fantastic choice. San Francisco is a vibrant and eclectic city, known for its stunning natural beauty, rich cultural history, and iconic landmarks like the Golden Gate Bridge and Alcatraz Island. Did you know that San Francisco is situated on the San Andreas Fault, which makes it prone to earthquakes? In fact, the city is home to over 800 miles of fault lines, which can make it a challenging place to build and develop.\\n\\nIn terms of climate, San Francisco is known for its cool and foggy weather, with an average temperature of around 58°F (14°C). This is due to the city's proximity to the Pacific Ocean and the influence of the cold California Current. The city's famous fog, which rolls in from the ocean, has even been the subject of numerous scientific studies.\\n\\nSan Francisco is also a hub for innovation and technology, with companies like Apple, Google, and Facebook having a significant presence in the city. The city is also famous for its vibrant arts and cultural scene, with numerous museums, galleries, and performance venues.\\n\\nInterestingly, San Francisco is also home to a diverse range of neighborhoods, each with its own unique character and charm. Some of the most popular neighborhoods include Fisherman's Wharf, Haight-Ashbury, and the Mission District.\\n\\nWhat is it about San Francisco that draws you in, Bappy? Is it the city's natural beauty, its cultural attractions, or something else entirely?\"}"
      ]
     },
     "execution_count": 32,
     "metadata": {},
     "output_type": "execute_result"
    }
   ],
   "source": [
    "conversation_window({\"input\": \"My favorite city is San Francisco\"})"
   ]
  },
  {
   "cell_type": "code",
   "execution_count": 33,
   "metadata": {},
   "outputs": [
    {
     "name": "stdout",
     "output_type": "stream",
     "text": [
      "\n",
      "\n",
      "\u001b[1m> Entering new ConversationChain chain...\u001b[0m\n",
      "Prompt after formatting:\n",
      "\u001b[32;1m\u001b[1;3mThe following is a friendly conversation between a human and an AI. The AI is talkative and provides lots of specific details from its context. If the AI does not know the answer to a question, it truthfully says it does not know.\n",
      "\n",
      "Current conversation:\n",
      "Human: My favorite animals are dogs\n",
      "AI: Dogs are wonderful creatures, and they've been a part of human society for thousands of years. In fact, the domestication of dogs is believed to have occurred around 15,000 to 30,000 years ago, during the Paleolithic era. It's thought that early humans may have taken in wolf pups and raised them as companions, leading to the development of the modern dog.\n",
      "\n",
      "Dogs are highly social animals, and they're known for their loyalty and affection towards their human companions. They're also incredibly intelligent, and they've been trained for a wide range of tasks, from hunting and herding to assisting people with disabilities.\n",
      "\n",
      "Interestingly, dogs have a unique sense of smell that's up to 10,000 times more sensitive than humans. They have up to 300 million olfactory receptors in their noses, compared to only 6 million in humans. This is why dogs are often used in search and rescue missions, as they can detect subtle scents that might be invisible to humans.\n",
      "\n",
      "In terms of popular dog breeds, some of the most well-known include Labradors, German Shepherds, and Golden Retrievers. These breeds are often used as guide dogs, therapy dogs, and service dogs due to their intelligence, loyalty, and trainability.\n",
      "\n",
      "Do you have a favorite breed of dog, Bappy, or is there something else about dogs that you particularly enjoy?\n",
      "Human: I like to drive a vespa scooter in the city\n",
      "AI: Vespa scooters are iconic vehicles that have been around for decades. The first Vespa scooter was introduced by Italian manufacturer Piaggio in 1946, and it was designed by engineer Corradino D'Ascanio. The scooter was meant to be a practical and affordable mode of transportation for Italians following World War II.\n",
      "\n",
      "Vespa scooters have a distinctive design, with a rounded body and a iconic chrome-plated handlebar. They're known for their fuel efficiency, ease of handling, and stylish design. Over the years, Vespa has become a cultural icon, and the scooter has been featured in numerous films, TV shows, and music videos.\n",
      "\n",
      "In terms of popularity, Vespa scooters are particularly popular in European cities, where they're ideal for navigating narrow streets and congested traffic. Many people also appreciate the eco-friendly aspect of Vespa scooters, as they're a more environmentally friendly option compared to cars.\n",
      "\n",
      "Interestingly, the name \"Vespa\" is Italian for \"wasp,\" which is a nod to the scooter's sleek and agile design. Did you know that the original Vespa scooter was also nicknamed the \"Paperino\" or \"Donald\" in Italy, due to its resemblance to the cartoon character Donald Duck?\n",
      "\n",
      "What do you enjoy most about driving a Vespa scooter in the city, Bappy? Is it the thrill of navigating through traffic, the feeling of freedom, or something else entirely?\n",
      "Human: My favorite city is San Francisco\n",
      "AI: San Francisco, what a fantastic choice. San Francisco is a vibrant and eclectic city, known for its stunning natural beauty, rich cultural history, and iconic landmarks like the Golden Gate Bridge and Alcatraz Island. Did you know that San Francisco is situated on the San Andreas Fault, which makes it prone to earthquakes? In fact, the city is home to over 800 miles of fault lines, which can make it a challenging place to build and develop.\n",
      "\n",
      "In terms of climate, San Francisco is known for its cool and foggy weather, with an average temperature of around 58°F (14°C). This is due to the city's proximity to the Pacific Ocean and the influence of the cold California Current. The city's famous fog, which rolls in from the ocean, has even been the subject of numerous scientific studies.\n",
      "\n",
      "San Francisco is also a hub for innovation and technology, with companies like Apple, Google, and Facebook having a significant presence in the city. The city is also famous for its vibrant arts and cultural scene, with numerous museums, galleries, and performance venues.\n",
      "\n",
      "Interestingly, San Francisco is also home to a diverse range of neighborhoods, each with its own unique character and charm. Some of the most popular neighborhoods include Fisherman's Wharf, Haight-Ashbury, and the Mission District.\n",
      "\n",
      "What is it about San Francisco that draws you in, Bappy? Is it the city's natural beauty, its cultural attractions, or something else entirely?\n",
      "Human: What is my favorite color?\n",
      "AI:\u001b[0m\n",
      "\n",
      "\u001b[1m> Finished chain.\u001b[0m\n"
     ]
    },
    {
     "data": {
      "text/plain": [
       "{'input': 'What is my favorite color?',\n",
       " 'history': 'Human: My favorite animals are dogs\\nAI: Dogs are wonderful creatures, and they\\'ve been a part of human society for thousands of years. In fact, the domestication of dogs is believed to have occurred around 15,000 to 30,000 years ago, during the Paleolithic era. It\\'s thought that early humans may have taken in wolf pups and raised them as companions, leading to the development of the modern dog.\\n\\nDogs are highly social animals, and they\\'re known for their loyalty and affection towards their human companions. They\\'re also incredibly intelligent, and they\\'ve been trained for a wide range of tasks, from hunting and herding to assisting people with disabilities.\\n\\nInterestingly, dogs have a unique sense of smell that\\'s up to 10,000 times more sensitive than humans. They have up to 300 million olfactory receptors in their noses, compared to only 6 million in humans. This is why dogs are often used in search and rescue missions, as they can detect subtle scents that might be invisible to humans.\\n\\nIn terms of popular dog breeds, some of the most well-known include Labradors, German Shepherds, and Golden Retrievers. These breeds are often used as guide dogs, therapy dogs, and service dogs due to their intelligence, loyalty, and trainability.\\n\\nDo you have a favorite breed of dog, Bappy, or is there something else about dogs that you particularly enjoy?\\nHuman: I like to drive a vespa scooter in the city\\nAI: Vespa scooters are iconic vehicles that have been around for decades. The first Vespa scooter was introduced by Italian manufacturer Piaggio in 1946, and it was designed by engineer Corradino D\\'Ascanio. The scooter was meant to be a practical and affordable mode of transportation for Italians following World War II.\\n\\nVespa scooters have a distinctive design, with a rounded body and a iconic chrome-plated handlebar. They\\'re known for their fuel efficiency, ease of handling, and stylish design. Over the years, Vespa has become a cultural icon, and the scooter has been featured in numerous films, TV shows, and music videos.\\n\\nIn terms of popularity, Vespa scooters are particularly popular in European cities, where they\\'re ideal for navigating narrow streets and congested traffic. Many people also appreciate the eco-friendly aspect of Vespa scooters, as they\\'re a more environmentally friendly option compared to cars.\\n\\nInterestingly, the name \"Vespa\" is Italian for \"wasp,\" which is a nod to the scooter\\'s sleek and agile design. Did you know that the original Vespa scooter was also nicknamed the \"Paperino\" or \"Donald\" in Italy, due to its resemblance to the cartoon character Donald Duck?\\n\\nWhat do you enjoy most about driving a Vespa scooter in the city, Bappy? Is it the thrill of navigating through traffic, the feeling of freedom, or something else entirely?\\nHuman: My favorite city is San Francisco\\nAI: San Francisco, what a fantastic choice. San Francisco is a vibrant and eclectic city, known for its stunning natural beauty, rich cultural history, and iconic landmarks like the Golden Gate Bridge and Alcatraz Island. Did you know that San Francisco is situated on the San Andreas Fault, which makes it prone to earthquakes? In fact, the city is home to over 800 miles of fault lines, which can make it a challenging place to build and develop.\\n\\nIn terms of climate, San Francisco is known for its cool and foggy weather, with an average temperature of around 58°F (14°C). This is due to the city\\'s proximity to the Pacific Ocean and the influence of the cold California Current. The city\\'s famous fog, which rolls in from the ocean, has even been the subject of numerous scientific studies.\\n\\nSan Francisco is also a hub for innovation and technology, with companies like Apple, Google, and Facebook having a significant presence in the city. The city is also famous for its vibrant arts and cultural scene, with numerous museums, galleries, and performance venues.\\n\\nInterestingly, San Francisco is also home to a diverse range of neighborhoods, each with its own unique character and charm. Some of the most popular neighborhoods include Fisherman\\'s Wharf, Haight-Ashbury, and the Mission District.\\n\\nWhat is it about San Francisco that draws you in, Bappy? Is it the city\\'s natural beauty, its cultural attractions, or something else entirely?',\n",
       " 'response': \"A question about your personal preferences. I don't have any information about your favorite color, as our conversation has only just begun and we haven't discussed colors before. I'd be happy to learn more about your favorite color, though. Do you have a favorite color, and if so, what is it?\"}"
      ]
     },
     "execution_count": 33,
     "metadata": {},
     "output_type": "execute_result"
    }
   ],
   "source": [
    "conversation_window({\"input\": \"What is my favorite color?\"})"
   ]
  },
  {
   "cell_type": "code",
   "execution_count": 34,
   "metadata": {},
   "outputs": [
    {
     "name": "stdout",
     "output_type": "stream",
     "text": [
      "\n",
      "\n",
      "\u001b[1m> Entering new ConversationChain chain...\u001b[0m\n",
      "Prompt after formatting:\n",
      "\u001b[32;1m\u001b[1;3mThe following is a friendly conversation between a human and an AI. The AI is talkative and provides lots of specific details from its context. If the AI does not know the answer to a question, it truthfully says it does not know.\n",
      "\n",
      "Current conversation:\n",
      "Human: I like to drive a vespa scooter in the city\n",
      "AI: Vespa scooters are iconic vehicles that have been around for decades. The first Vespa scooter was introduced by Italian manufacturer Piaggio in 1946, and it was designed by engineer Corradino D'Ascanio. The scooter was meant to be a practical and affordable mode of transportation for Italians following World War II.\n",
      "\n",
      "Vespa scooters have a distinctive design, with a rounded body and a iconic chrome-plated handlebar. They're known for their fuel efficiency, ease of handling, and stylish design. Over the years, Vespa has become a cultural icon, and the scooter has been featured in numerous films, TV shows, and music videos.\n",
      "\n",
      "In terms of popularity, Vespa scooters are particularly popular in European cities, where they're ideal for navigating narrow streets and congested traffic. Many people also appreciate the eco-friendly aspect of Vespa scooters, as they're a more environmentally friendly option compared to cars.\n",
      "\n",
      "Interestingly, the name \"Vespa\" is Italian for \"wasp,\" which is a nod to the scooter's sleek and agile design. Did you know that the original Vespa scooter was also nicknamed the \"Paperino\" or \"Donald\" in Italy, due to its resemblance to the cartoon character Donald Duck?\n",
      "\n",
      "What do you enjoy most about driving a Vespa scooter in the city, Bappy? Is it the thrill of navigating through traffic, the feeling of freedom, or something else entirely?\n",
      "Human: My favorite city is San Francisco\n",
      "AI: San Francisco, what a fantastic choice. San Francisco is a vibrant and eclectic city, known for its stunning natural beauty, rich cultural history, and iconic landmarks like the Golden Gate Bridge and Alcatraz Island. Did you know that San Francisco is situated on the San Andreas Fault, which makes it prone to earthquakes? In fact, the city is home to over 800 miles of fault lines, which can make it a challenging place to build and develop.\n",
      "\n",
      "In terms of climate, San Francisco is known for its cool and foggy weather, with an average temperature of around 58°F (14°C). This is due to the city's proximity to the Pacific Ocean and the influence of the cold California Current. The city's famous fog, which rolls in from the ocean, has even been the subject of numerous scientific studies.\n",
      "\n",
      "San Francisco is also a hub for innovation and technology, with companies like Apple, Google, and Facebook having a significant presence in the city. The city is also famous for its vibrant arts and cultural scene, with numerous museums, galleries, and performance venues.\n",
      "\n",
      "Interestingly, San Francisco is also home to a diverse range of neighborhoods, each with its own unique character and charm. Some of the most popular neighborhoods include Fisherman's Wharf, Haight-Ashbury, and the Mission District.\n",
      "\n",
      "What is it about San Francisco that draws you in, Bappy? Is it the city's natural beauty, its cultural attractions, or something else entirely?\n",
      "Human: What is my favorite color?\n",
      "AI: A question about your personal preferences. I don't have any information about your favorite color, as our conversation has only just begun and we haven't discussed colors before. I'd be happy to learn more about your favorite color, though. Do you have a favorite color, and if so, what is it?\n",
      "Human: What is my favorite city?\n",
      "AI:\u001b[0m\n",
      "\n",
      "\u001b[1m> Finished chain.\u001b[0m\n"
     ]
    },
    {
     "data": {
      "text/plain": [
       "{'input': 'What is my favorite city?',\n",
       " 'history': 'Human: I like to drive a vespa scooter in the city\\nAI: Vespa scooters are iconic vehicles that have been around for decades. The first Vespa scooter was introduced by Italian manufacturer Piaggio in 1946, and it was designed by engineer Corradino D\\'Ascanio. The scooter was meant to be a practical and affordable mode of transportation for Italians following World War II.\\n\\nVespa scooters have a distinctive design, with a rounded body and a iconic chrome-plated handlebar. They\\'re known for their fuel efficiency, ease of handling, and stylish design. Over the years, Vespa has become a cultural icon, and the scooter has been featured in numerous films, TV shows, and music videos.\\n\\nIn terms of popularity, Vespa scooters are particularly popular in European cities, where they\\'re ideal for navigating narrow streets and congested traffic. Many people also appreciate the eco-friendly aspect of Vespa scooters, as they\\'re a more environmentally friendly option compared to cars.\\n\\nInterestingly, the name \"Vespa\" is Italian for \"wasp,\" which is a nod to the scooter\\'s sleek and agile design. Did you know that the original Vespa scooter was also nicknamed the \"Paperino\" or \"Donald\" in Italy, due to its resemblance to the cartoon character Donald Duck?\\n\\nWhat do you enjoy most about driving a Vespa scooter in the city, Bappy? Is it the thrill of navigating through traffic, the feeling of freedom, or something else entirely?\\nHuman: My favorite city is San Francisco\\nAI: San Francisco, what a fantastic choice. San Francisco is a vibrant and eclectic city, known for its stunning natural beauty, rich cultural history, and iconic landmarks like the Golden Gate Bridge and Alcatraz Island. Did you know that San Francisco is situated on the San Andreas Fault, which makes it prone to earthquakes? In fact, the city is home to over 800 miles of fault lines, which can make it a challenging place to build and develop.\\n\\nIn terms of climate, San Francisco is known for its cool and foggy weather, with an average temperature of around 58°F (14°C). This is due to the city\\'s proximity to the Pacific Ocean and the influence of the cold California Current. The city\\'s famous fog, which rolls in from the ocean, has even been the subject of numerous scientific studies.\\n\\nSan Francisco is also a hub for innovation and technology, with companies like Apple, Google, and Facebook having a significant presence in the city. The city is also famous for its vibrant arts and cultural scene, with numerous museums, galleries, and performance venues.\\n\\nInterestingly, San Francisco is also home to a diverse range of neighborhoods, each with its own unique character and charm. Some of the most popular neighborhoods include Fisherman\\'s Wharf, Haight-Ashbury, and the Mission District.\\n\\nWhat is it about San Francisco that draws you in, Bappy? Is it the city\\'s natural beauty, its cultural attractions, or something else entirely?\\nHuman: What is my favorite color?\\nAI: A question about your personal preferences. I don\\'t have any information about your favorite color, as our conversation has only just begun and we haven\\'t discussed colors before. I\\'d be happy to learn more about your favorite color, though. Do you have a favorite color, and if so, what is it?',\n",
       " 'response': \"Your favorite city is San Francisco, which we've already discussed earlier in our conversation. We talked about its stunning natural beauty, rich cultural history, iconic landmarks, and diverse range of neighborhoods.\"}"
      ]
     },
     "execution_count": 34,
     "metadata": {},
     "output_type": "execute_result"
    }
   ],
   "source": [
    "conversation_window({\"input\": \"What is my favorite city?\"})"
   ]
  },
  {
   "cell_type": "markdown",
   "metadata": {},
   "source": [
    "# Chat Message History\n",
    "* Save list of chat messages and then fetch them all."
   ]
  },
  {
   "cell_type": "code",
   "execution_count": 36,
   "metadata": {},
   "outputs": [],
   "source": [
    "# from langchain_openai import ChatOpenAI\n",
    "\n",
    "# llm = ChatOpenAI(model=\"gpt-3.5-turbo-0125\")\n",
    "from langchain_groq import ChatGroq\n",
    "\n",
    "llm = ChatGroq(\n",
    "    model=\"llama-3.1-8b-instant\"\n",
    ")"
   ]
  },
  {
   "cell_type": "code",
   "execution_count": 37,
   "metadata": {},
   "outputs": [],
   "source": [
    "from langchain.memory import ChatMessageHistory\n",
    "\n",
    "history = ChatMessageHistory()\n",
    "\n",
    "history.add_user_message(\"hi!\")\n",
    "\n",
    "history.add_ai_message(\"whats up?\")"
   ]
  },
  {
   "cell_type": "code",
   "execution_count": 38,
   "metadata": {},
   "outputs": [
    {
     "data": {
      "text/plain": [
       "[HumanMessage(content='hi!', additional_kwargs={}, response_metadata={}),\n",
       " AIMessage(content='whats up?', additional_kwargs={}, response_metadata={})]"
      ]
     },
     "execution_count": 38,
     "metadata": {},
     "output_type": "execute_result"
    }
   ],
   "source": [
    "history.messages"
   ]
  },
  {
   "cell_type": "markdown",
   "metadata": {},
   "source": [
    "\n",
    "---\n",
    "\n",
    "# 🧠 LangChain Memory Topics (So far)\n",
    "\n",
    "### 1. **Conversation Buffer Memory**\n",
    "\n",
    "* সব চ্যাট ইতিহাস (full conversation) মনে রাখে।\n",
    "* Prompt-এ আগের সব user + AI টার্ন যোগ হয়।\n",
    "* Limitation → লম্বা কনভারসেশন হলে prompt বড় হয়ে যায়।\n",
    "\n",
    "👉 Keynote: *“সব মনে রাখে”*\n",
    "\n",
    "---\n",
    "\n",
    "### 2. **Conversation Buffer Window Memory**\n",
    "\n",
    "* শুধু শেষের **k টা টার্ন** মনে রাখে (পুরো নয়)।\n",
    "* `k=3` → মানে শেষের ৩টা প্রশ্ন-উত্তর রাখবে।\n",
    "* Useful যখন recent context যথেষ্ট।\n",
    "\n",
    "👉 Keynote: *“শুধু শেষের কয়েকটা মনে রাখে”*\n",
    "\n",
    "---\n",
    "\n",
    "### 3. **Chat Message History**\n",
    "\n",
    "* খুব সিম্পল: user+AI মেসেজ লিস্ট আকারে সেভ করে।\n",
    "* ম্যানুয়ালি `add_user_message()` / `add_ai_message()` দিয়ে যোগ করতে হয়।\n",
    "* `history.messages` দিয়ে সব দেখা যায়।\n",
    "* বাকি memory system গুলো (যেমন BufferMemory) ভেতরে এটাকেই ব্যবহার করে।\n",
    "\n",
    "👉 Keynote: *“বেসিক লিস্ট স্টোরেজ”*\n",
    "\n",
    "---\n",
    "\n",
    "### 4. **ConversationBufferMemory + ChatMessageHistory Integration**\n",
    "\n",
    "* `ConversationBufferMemory` ভিতরে `ChatMessageHistory` ব্যবহার করে।\n",
    "* পার্থক্য → BufferMemory LLMChain এর সাথে connect হয়, তাই মেসেজ অটো সেভ হয়।\n",
    "* `memory_key` আর `MessagesPlaceholder` এর নাম মিলতে হবে।\n",
    "\n",
    "👉 Keynote: *“BufferMemory = Auto ChatMessageHistory”*\n",
    "\n",
    "---\n",
    "\n",
    "## 🔮 Bonus Idea (Next Steps আপনি চাইলে শিখতে পারেন)\n",
    "\n",
    "* **ConversationSummaryMemory** → পুরোনো কথাগুলো summarize করে রাখে।\n",
    "* **ConversationKGMemory** → knowledge graph বানিয়ে রাখে।\n",
    "* **VectorStoreRetrieverMemory** → embedding দিয়ে লম্বা কনভারসেশন হ্যান্ডেল করে।\n",
    "\n",
    "---\n"
   ]
  }
 ],
 "metadata": {
  "kernelspec": {
   "display_name": "Python 3",
   "language": "python",
   "name": "python3"
  },
  "language_info": {
   "codemirror_mode": {
    "name": "ipython",
    "version": 3
   },
   "file_extension": ".py",
   "mimetype": "text/x-python",
   "name": "python",
   "nbconvert_exporter": "python",
   "pygments_lexer": "ipython3",
   "version": "3.12.10"
  }
 },
 "nbformat": 4,
 "nbformat_minor": 2
}
