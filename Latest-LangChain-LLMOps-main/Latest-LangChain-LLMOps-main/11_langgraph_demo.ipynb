{
 "cells": [
  {
   "cell_type": "code",
   "execution_count": 3,
   "metadata": {},
   "outputs": [],
   "source": [
    "import os\n",
    "from dotenv import load_dotenv, find_dotenv\n",
    "_ = load_dotenv(find_dotenv())\n",
    "openai_api_key = os.environ[\"OPENAI_API_KEY\"]"
   ]
  },
  {
   "cell_type": "code",
   "execution_count": 4,
   "metadata": {},
   "outputs": [],
   "source": [
    "from langchain_openai import ChatOpenAI\n",
    "\n",
    "llm = ChatOpenAI(model=\"gpt-3.5-turbo\")"
   ]
  },
  {
   "cell_type": "code",
   "execution_count": 5,
   "metadata": {},
   "outputs": [
    {
     "data": {
      "text/plain": [
       "[{'url': 'https://www.nbcsports.com/soccer/news/euro-2024-player-power-rankings-who-are-the-top-20-stars',\n",
       "  'content': \"EURO 2024 player Power Rankings. 20. Giorgi Mamardashvili (Georgia) 19. Khvicha Kvaratskhelia (Georgia) 18. Hakan Calhanoglu (Turkey) 17. Lamine Yamal (Spain) 16. N'Golo Kante (France) 15. Jude Bellingham (England) 14.\"},\n",
       " {'url': 'https://www.givemesport.com/best-players-at-euro-2024-ranked/',\n",
       "  'content': \"11 20-11 Stars like Toni Kroos and Cristiano Ronaldo feature. While they don't quite break into the top 10 best players at Euro 2024, the talent from 11 to 20 is still pretty incredible.\"},\n",
       " {'url': 'https://www.givemesport.com/ranking-best-players-euro-2024/',\n",
       "  'content': \"France's Kylian Mbappe is ranked as the best player at Euro 2024. With the knockout stages of Euro 2024 about to get underway, the best that Europe has to offer will be battling it out to get\"}]"
      ]
     },
     "execution_count": 5,
     "metadata": {},
     "output_type": "execute_result"
    }
   ],
   "source": [
    "from langchain_community.tools.tavily_search import TavilySearchResults\n",
    "search = TavilySearchResults(max_results=3)\n",
    "search.invoke(\"Who are the top stars of the 2024 Eurocup?\")"
   ]
  },
  {
   "cell_type": "code",
   "execution_count": 6,
   "metadata": {},
   "outputs": [],
   "source": [
    "tools = [search]"
   ]
  },
  {
   "cell_type": "code",
   "execution_count": 7,
   "metadata": {},
   "outputs": [
    {
     "data": {
      "text/plain": [
       "[TavilySearchResults(max_results=3)]"
      ]
     },
     "execution_count": 7,
     "metadata": {},
     "output_type": "execute_result"
    }
   ],
   "source": [
    "tools"
   ]
  },
  {
   "cell_type": "code",
   "execution_count": 8,
   "metadata": {},
   "outputs": [],
   "source": [
    "from langgraph.prebuilt import create_react_agent\n",
    "\n",
    "agent_executor = create_react_agent(llm, tools)"
   ]
  },
  {
   "cell_type": "code",
   "execution_count": 9,
   "metadata": {},
   "outputs": [
    {
     "data": {
      "text/plain": [
       "[HumanMessage(content='Where is the soccer Eurocup 2024 played?', id='800bb4ad-fdbc-492a-b751-20001c83e54d'),\n",
       " AIMessage(content='', additional_kwargs={'tool_calls': [{'id': 'call_Ekuusa5Fi6tGgbwmQNbVsskk', 'function': {'arguments': '{\"query\":\"Soccer Eurocup 2024 location\"}', 'name': 'tavily_search_results_json'}, 'type': 'function'}]}, response_metadata={'token_usage': {'completion_tokens': 25, 'prompt_tokens': 92, 'total_tokens': 117, 'completion_tokens_details': {'audio_tokens': 0, 'reasoning_tokens': 0, 'accepted_prediction_tokens': 0, 'rejected_prediction_tokens': 0}, 'prompt_tokens_details': {'audio_tokens': 0, 'cached_tokens': 0}}, 'model_name': 'gpt-3.5-turbo-0125', 'system_fingerprint': None, 'finish_reason': 'tool_calls', 'logprobs': None}, id='run-b92b683f-7d38-4d34-bcc6-5e398c5b027f-0', tool_calls=[{'name': 'tavily_search_results_json', 'args': {'query': 'Soccer Eurocup 2024 location'}, 'id': 'call_Ekuusa5Fi6tGgbwmQNbVsskk', 'type': 'tool_call'}], usage_metadata={'input_tokens': 92, 'output_tokens': 25, 'total_tokens': 117}),\n",
       " ToolMessage(content='[{\"url\": \"https://www.foxsports.com/stories/soccer/euro-2024-locations-host-cities-and-stadiums\", \"content\": \"Euro 2024 Locations and Stadiums. Below is a list of the 2024 host cities as well as their stadiums and capacities: Berlin: Olympiastadion Berlin (Capacity: 74,461) Cologne: Cologne Stadium\"}, {\"url\": \"https://olympics.com/en/news/uefa-euro-2024-venues-complete-list-when-where-final-opening-game\", \"content\": \"UEFA EURO 2024 will be held in Germany across June and July, with 10 host cities staging the major football tournament. It all begins in Munich on June 14, when hosts Germany take on Scotland in the tournament\\'s opening game at Bayern Munich\\'s stadium. The final takes place a month later on July 14 at Olympiastadion Berlin in the German\"}, {\"url\": \"https://www.bbc.com/sport/extra/8eaygdhsw3/Euro-2024-stadiums\", \"content\": \"Stadium capacity: 70,000. Home team: Hertha Berlin. The Olympiastadion in Berlin is the largest venue in use at Euro 2024. It has staged every German Cup final since 1985, as well as several high\"}]', name='tavily_search_results_json', id='65f9ed16-1f21-4c0a-9fbb-d72a853923b6', tool_call_id='call_Ekuusa5Fi6tGgbwmQNbVsskk'),\n",
       " AIMessage(content=\"The Soccer Eurocup 2024 will be played in Germany. The tournament will have 10 host cities, with the opening game taking place in Munich on June 14 at Bayern Munich's stadium. The final will be held on July 14 at Olympiastadion Berlin.\", response_metadata={'token_usage': {'completion_tokens': 58, 'prompt_tokens': 416, 'total_tokens': 474, 'completion_tokens_details': {'audio_tokens': 0, 'reasoning_tokens': 0, 'accepted_prediction_tokens': 0, 'rejected_prediction_tokens': 0}, 'prompt_tokens_details': {'audio_tokens': 0, 'cached_tokens': 0}}, 'model_name': 'gpt-3.5-turbo-0125', 'system_fingerprint': None, 'finish_reason': 'stop', 'logprobs': None}, id='run-12c538c8-d3bf-47d8-8ab4-378cdf399ae6-0', usage_metadata={'input_tokens': 416, 'output_tokens': 58, 'total_tokens': 474})]"
      ]
     },
     "execution_count": 9,
     "metadata": {},
     "output_type": "execute_result"
    }
   ],
   "source": [
    "from langchain_core.messages import HumanMessage\n",
    "\n",
    "response = agent_executor.invoke({\"messages\": [HumanMessage(content=\"Where is the soccer Eurocup 2024 played?\")]})\n",
    "\n",
    "response[\"messages\"]"
   ]
  },
  {
   "cell_type": "code",
   "execution_count": 10,
   "metadata": {},
   "outputs": [
    {
     "data": {
      "text/plain": [
       "[HumanMessage(content='What is Python?', id='8672de02-fe07-4744-905d-b9e0161d31e3'),\n",
       " AIMessage(content='', additional_kwargs={'tool_calls': [{'id': 'call_CE6KtNSqdNcjpbzyqMsJ8Jxh', 'function': {'arguments': '{\"query\":\"Python\"}', 'name': 'tavily_search_results_json'}, 'type': 'function'}]}, response_metadata={'token_usage': {'completion_tokens': 18, 'prompt_tokens': 85, 'total_tokens': 103, 'completion_tokens_details': {'audio_tokens': 0, 'reasoning_tokens': 0, 'accepted_prediction_tokens': 0, 'rejected_prediction_tokens': 0}, 'prompt_tokens_details': {'audio_tokens': 0, 'cached_tokens': 0}}, 'model_name': 'gpt-3.5-turbo-0125', 'system_fingerprint': None, 'finish_reason': 'tool_calls', 'logprobs': None}, id='run-38592a6f-58c5-4a9d-aaa8-4173d9edfd12-0', tool_calls=[{'name': 'tavily_search_results_json', 'args': {'query': 'Python'}, 'id': 'call_CE6KtNSqdNcjpbzyqMsJ8Jxh', 'type': 'tool_call'}], usage_metadata={'input_tokens': 85, 'output_tokens': 18, 'total_tokens': 103}),\n",
       " ToolMessage(content='[{\"url\": \"https://docs.python.org/3/reference/index.html\", \"content\": \"Learn the syntax and core semantics of the Python language from this terse and complete manual. It covers topics such as expressions, statements, data model, execution model, import system, and more.\"}, {\"url\": \"https://www.python.org/downloads/\", \"content\": \"Python for\\\\nWindows,\\\\nLinux/UNIX,\\\\nmacOS,\\\\nOther\\\\nWant to help test development versions of Python 3.13?\\\\nPrereleases,\\\\nDocker images\\\\nActive Python Releases\\\\nFor more information visit the Python Developer\\'s Guide.\\\\n 3.12.0\\\\nDownload the latest source release\\\\nDownload Python 3.12.0\\\\nDownload the latest version for Windows\\\\nDownload Python 3.12.0\\\\nDownload the latest version of Python\\\\nDownload Python 3.12.0\\\\nLooking for Python with a different OS? To verify the authenticity\\\\nof the download, grab both files and then run this command:\\\\nNote that you must use the name of the signature file, and you should use the\\\\none that\\'s appropriate to the download you\\'re verifying.\\\\n Looking for a specific release?\\\\nPython releases by version number:\\\\nView older releases\\\\nSponsors\\\\nVisionary sponsors help to host Python downloads.\\\\n Release files for currently supported releases are signed by the following:\\\\nRelease files for older releases which have now reached end-of-life may have been signed by one of the following:\\\\nYou can import a person\\'s public keys from a public keyserver network server\\\\n\"}, {\"url\": \"https://en.wikipedia.org/wiki/Python_(programming_language)\", \"content\": \"Other implementations\\\\nUnsupported implementations\\\\nOther just-in-time Python compilers have been developed, but are now unsupported:\\\\nCross-compilers to other languages\\\\nThere are several compilers/transpilers to high-level object languages, with either unrestricted Python, a restricted subset of Python, or a language similar to Python as the source language:\\\\nSpecialized:\\\\nOlder projects (or not to be used with Python 3.x and latest syntax):\\\\nPerformance\\\\nPerformance comparison of various Python implementations on a non-numerical (combinatorial) workload was presented at EuroSciPy \\'13.[160] Python\\'s performance compared to other programming languages is also benchmarked by The Computer Language Benchmarks Game.[161]\\\\nDevelopment\\\\nPython\\'s development is conducted largely through the Python Enhancement Proposal (PEP) process, the primary mechanism for proposing major new features, collecting community input on issues, and documenting Python design decisions.[162] Python coding style is covered in PEP\\xa08.[163] Outstanding PEPs are reviewed and commented on by the Python community and the steering council.[162]\\\\nEnhancement of the language corresponds with the development of the CPython reference implementation. Python\\xa02.7.18, released in 2020, was the last release of Python\\xa02.[35]\\\\nPython consistently ranks as one of the most popular programming languages.[36][37][38][39]\\\\nHistory\\\\nPython was conceived in the late 1980s[40] by Guido van Rossum at Centrum Wiskunde & Informatica (CWI) in the Netherlands as a successor to the ABC programming language, which was inspired by SETL,[41] capable of exception handling and interfacing with the Amoeba operating system.[10] Its implementation began in December\\xa01989.[42] Van Rossum shouldered sole responsibility for the project, as the lead developer, until 12 July 2018, when he announced his \\\\\"permanent vacation\\\\\" from his responsibilities as Python\\'s \\\\\"benevolent dictator for life\\\\\", a title the Python community bestowed upon him to reflect his long-term commitment as the project\\'s chief decision-maker.[43] In January\\xa02019, active Python core developers elected a five-member Steering Council to lead the project.[44][45]\\\\nPython 2.0 was released on 16 October 2000, with many major new features such as list comprehensions, cycle-detecting garbage collection, reference counting, and Unicode support.[46] Python\\xa03.0, released on 3 December 2008, with many of its major features backported to Python\\xa02.6.x[47] and 2.7.x. The Decimal type/class in the decimal module provides decimal floating-point numbers to a pre-defined arbitrary precision and several rounding modes.[116] The Fraction class in the fractions module provides arbitrary precision for rational numbers.[117]\\\\nDue to Python\\'s extensive mathematics library, and the third-party library NumPy that further extends the native capabilities, it is frequently used as a scientific scripting language to aid in problems such as numerical data processing and manipulation.[118][119]\\\\nProgramming examples\\\\nHello world program:\\\\nProgram to calculate the factorial of a positive integer:\\\\nLibraries\\\\nPython\\'s large standard library[120] provides tools suited to many tasks and is commonly cited as one of its greatest strengths. SageMath is a computer algebra system with a notebook interface programmable in Python: its library covers many aspects of mathematics, including algebra, combinatorics, numerical mathematics, number theory, and calculus.[197] OpenCV has Python bindings with a rich set of features for computer vision and image processing.[198]\\\\nPython is commonly used in artificial intelligence projects and machine learning projects with the help of libraries like TensorFlow, Keras, Pytorch, and scikit-learn.[199][200][201][202] As a scripting language with a modular architecture, simple syntax, and rich text processing tools, Python is often used for natural language processing.[203]\\\\nPython can also be used for graphical user interface (GUI) by using libraries like Tkinter.[204][205]\\\\nPython can also be used to create games, with libraries such as Pygame, which can make 2D games.\\\\n This is reflected in its name—a tribute to the British comedy group Monty Python[76]—and in occasionally playful approaches to tutorials and reference materials, such as the use of the terms \\\\\"spam\\\\\" and \\\\\"eggs\\\\\" (a reference to a Monty Python sketch) in examples, instead of the often-used \\\\\"foo\\\\\" and \\\\\"bar\\\\\".[77][78]\\\\nA common neologism in the Python community is pythonic, which has a wide range of meanings related to program style.\"}]', name='tavily_search_results_json', id='4194227b-3f78-4c7d-b90a-21a0ade8a216', tool_call_id='call_CE6KtNSqdNcjpbzyqMsJ8Jxh'),\n",
       " AIMessage(content='Python is a popular programming language known for its simplicity and readability. It was conceived in the late 1980s by Guido van Rossum as a successor to the ABC programming language. Python is widely used in various fields, including artificial intelligence, machine learning, scientific computing, and more. It has a large standard library that provides tools for many tasks, making it versatile and powerful.\\n\\nIf you want to learn more about Python, you can visit the [Python documentation](https://docs.python.org/3/reference/index.html) or the [Python Wikipedia page](https://en.wikipedia.org/wiki/Python_(programming_language)). Additionally, you can download Python from the [official Python website](https://www.python.org/downloads/).', response_metadata={'token_usage': {'completion_tokens': 147, 'prompt_tokens': 1424, 'total_tokens': 1571, 'completion_tokens_details': {'audio_tokens': 0, 'reasoning_tokens': 0, 'accepted_prediction_tokens': 0, 'rejected_prediction_tokens': 0}, 'prompt_tokens_details': {'audio_tokens': 0, 'cached_tokens': 0}}, 'model_name': 'gpt-3.5-turbo-0125', 'system_fingerprint': None, 'finish_reason': 'stop', 'logprobs': None}, id='run-aa7f6ae3-62c2-43ed-8c02-fa74ad841001-0', usage_metadata={'input_tokens': 1424, 'output_tokens': 147, 'total_tokens': 1571})]"
      ]
     },
     "execution_count": 10,
     "metadata": {},
     "output_type": "execute_result"
    }
   ],
   "source": [
    "from langchain_core.messages import HumanMessage\n",
    "\n",
    "response = agent_executor.invoke({\"messages\": [HumanMessage(content=\"What is Python?\")]})\n",
    "\n",
    "response[\"messages\"]"
   ]
  },
  {
   "cell_type": "code",
   "execution_count": 11,
   "metadata": {},
   "outputs": [
    {
     "name": "stdout",
     "output_type": "stream",
     "text": [
      "{'agent': {'messages': [AIMessage(content='', additional_kwargs={'tool_calls': [{'id': 'call_1T8TQJZOBI9Tjwm9fogzi1NO', 'function': {'arguments': '{\"query\":\"2024 Eurocup final match location and date\"}', 'name': 'tavily_search_results_json'}, 'type': 'function'}]}, response_metadata={'token_usage': {'completion_tokens': 26, 'prompt_tokens': 96, 'total_tokens': 122, 'completion_tokens_details': {'audio_tokens': 0, 'reasoning_tokens': 0, 'accepted_prediction_tokens': 0, 'rejected_prediction_tokens': 0}, 'prompt_tokens_details': {'audio_tokens': 0, 'cached_tokens': 0}}, 'model_name': 'gpt-3.5-turbo-0125', 'system_fingerprint': None, 'finish_reason': 'tool_calls', 'logprobs': None}, id='run-e7f3efff-5390-4da6-b5dd-067748278536-0', tool_calls=[{'name': 'tavily_search_results_json', 'args': {'query': '2024 Eurocup final match location and date'}, 'id': 'call_1T8TQJZOBI9Tjwm9fogzi1NO', 'type': 'tool_call'}], usage_metadata={'input_tokens': 96, 'output_tokens': 26, 'total_tokens': 122})]}}\n",
      "----\n",
      "{'tools': {'messages': [ToolMessage(content='[{\"url\": \"https://en.wikipedia.org/wiki/UEFA_Euro_2024_Final\", \"content\": \"The UEFA Euro 2024 final was a football match that determined the winners of UEFA Euro 2024.The match was the seventeenth final of the European Championship, a quadrennial tournament contested by the men\\'s national teams of the member associations of UEFA to decide the champions of Europe. The match was held at the Olympiastadion in Berlin, Germany, on 14 July 2024, and was contested by Spain\"}, {\"url\": \"https://www.uefa.com/euro2024/news/0284-18bb952a9458-2a9e1ff202c4-1000--euro-2024-final-who-was-in-it-when-and-where-was-it/\", \"content\": \"The UEFA EURO 2024 final was played on Sunday 14 July, kicking off at 21:00 CET. The final: all the reaction. The match took place at Olympiastadion Berlin, the biggest stadium at the tournament\"}, {\"url\": \"https://sportstar.thehindu.com/football/euro-2024-spain-vs-england-final-date-time-venue-stadium-details-news-updates/article68390469.ece\", \"content\": \"When is the Euro 2024 final? The Euro 2024 final is scheduled to be played on July 14, 9:00 PM local time (CET); 8:00 PM BST. (July 15, 12:30 AM IST) Which stadium is hosting Euro 2024 final? The final is set to take place at the Olympiastadion Berlin. It is the home stadium of Hertha BSC, Bundesliga club and has a total capacity of over 74,000.\"}]', name='tavily_search_results_json', tool_call_id='call_1T8TQJZOBI9Tjwm9fogzi1NO')]}}\n",
      "----\n",
      "{'agent': {'messages': [AIMessage(content='The 2024 Eurocup final match will be held at the Olympiastadion in Berlin, Germany on 14 July 2024. The match is scheduled to kick off at 21:00 CET.', response_metadata={'token_usage': {'completion_tokens': 45, 'prompt_tokens': 516, 'total_tokens': 561, 'completion_tokens_details': {'audio_tokens': 0, 'reasoning_tokens': 0, 'accepted_prediction_tokens': 0, 'rejected_prediction_tokens': 0}, 'prompt_tokens_details': {'audio_tokens': 0, 'cached_tokens': 0}}, 'model_name': 'gpt-3.5-turbo-0125', 'system_fingerprint': None, 'finish_reason': 'stop', 'logprobs': None}, id='run-0408ed75-6578-464a-a253-782bcf8c4b8b-0', usage_metadata={'input_tokens': 516, 'output_tokens': 45, 'total_tokens': 561})]}}\n",
      "----\n"
     ]
    }
   ],
   "source": [
    "for chunk in agent_executor.stream(\n",
    "    {\"messages\": [HumanMessage(content=\"When and where will it be the 2024 Eurocup final match?\")]}\n",
    "):\n",
    "    print(chunk)\n",
    "    print(\"----\")"
   ]
  },
  {
   "cell_type": "markdown",
   "metadata": {},
   "source": [
    "## Adding memory\n",
    "* Adding memory in LangGraph is very similar to what we did with LangChain."
   ]
  },
  {
   "cell_type": "code",
   "execution_count": 12,
   "metadata": {},
   "outputs": [],
   "source": [
    "from langgraph.checkpoint.memory import MemorySaver\n",
    "\n",
    "memory = MemorySaver()"
   ]
  },
  {
   "cell_type": "code",
   "execution_count": 13,
   "metadata": {},
   "outputs": [],
   "source": [
    "agent_executor = create_react_agent(llm, tools, checkpointer=memory)\n",
    "\n",
    "config = {\"configurable\": {\"thread_id\": \"001\"}}"
   ]
  },
  {
   "cell_type": "code",
   "execution_count": 16,
   "metadata": {},
   "outputs": [
    {
     "name": "stdout",
     "output_type": "stream",
     "text": [
      "{'agent': {'messages': [AIMessage(content='I am sorry for the inconvenience. Let me find the information about the winner of the 2024 soccer Eurocup for you.', additional_kwargs={'tool_calls': [{'id': 'call_gb9W8DQ0zx0orw1nRwXDRYJy', 'function': {'arguments': '{\"query\":\"2024 soccer Eurocup winner\"}', 'name': 'tavily_search_results_json'}, 'type': 'function'}]}, response_metadata={'token_usage': {'completion_tokens': 50, 'prompt_tokens': 929, 'total_tokens': 979, 'completion_tokens_details': {'audio_tokens': 0, 'reasoning_tokens': 0, 'accepted_prediction_tokens': 0, 'rejected_prediction_tokens': 0}, 'prompt_tokens_details': {'audio_tokens': 0, 'cached_tokens': 0}}, 'model_name': 'gpt-3.5-turbo-0125', 'system_fingerprint': None, 'finish_reason': 'tool_calls', 'logprobs': None}, id='run-ce696981-8dd4-4319-b62a-b0f2be73caa9-0', tool_calls=[{'name': 'tavily_search_results_json', 'args': {'query': '2024 soccer Eurocup winner'}, 'id': 'call_gb9W8DQ0zx0orw1nRwXDRYJy', 'type': 'tool_call'}], usage_metadata={'input_tokens': 929, 'output_tokens': 50, 'total_tokens': 979})]}}\n",
      "----\n",
      "{'tools': {'messages': [ToolMessage(content='[{\"url\": \"https://www.sportingnews.com/us/soccer/news/euro-2024-final-england-vs-spain-live-score-result/a8ad2734b0cb7590c772530a\", \"content\": \"Mikel Oyarzabal snatched Euro 2024 glory for Spain as the substitute\\'s late winner secured a 2-1 win over England in Berlin. ... — FOX Soccer (@FOXSoccer) July 14, 2024.\"}, {\"url\": \"https://www.sportingnews.com/us/soccer/news/who-won-euro-2024-spain-england-oyarzabal/19ab0b3bf663194bc5193e50\", \"content\": \"Spain won the 2024 European Championship, becoming the first team to lift the trophy four times, beating England 2-1 thanks to a late winner from Mikel Oyarzabal.\"}, {\"url\": \"https://www.usatoday.com/story/sports/soccer/europe/2024/07/14/england-vs-spain-euro-2024-odds-prediction-highlights-result/74399785007/\", \"content\": \"0:00. 1:24. Spain won its record fourth European soccer championship, getting an 86th-minute goal from Mikel Oyarzabal to beat England in the Euro 2024 final on Sunday in Berlin. Spain won all\"}]', name='tavily_search_results_json', tool_call_id='call_gb9W8DQ0zx0orw1nRwXDRYJy')]}}\n",
      "----\n",
      "{'agent': {'messages': [AIMessage(content='The winner of the 2024 soccer Eurocup was Spain. They secured a 2-1 victory over England in the final, with Mikel Oyarzabal scoring the late winning goal.', response_metadata={'token_usage': {'completion_tokens': 41, 'prompt_tokens': 1295, 'total_tokens': 1336, 'completion_tokens_details': {'audio_tokens': 0, 'reasoning_tokens': 0, 'accepted_prediction_tokens': 0, 'rejected_prediction_tokens': 0}, 'prompt_tokens_details': {'audio_tokens': 0, 'cached_tokens': 0}}, 'model_name': 'gpt-3.5-turbo-0125', 'system_fingerprint': None, 'finish_reason': 'stop', 'logprobs': None}, id='run-1837ec71-725c-43d6-a301-7764fabffdd6-0', usage_metadata={'input_tokens': 1295, 'output_tokens': 41, 'total_tokens': 1336})]}}\n",
      "----\n"
     ]
    }
   ],
   "source": [
    "for chunk in agent_executor.stream(\n",
    "    {\"messages\": [HumanMessage(content=\"Who won the 2024 soccer Eurocup?\")]}, config\n",
    "):\n",
    "    print(chunk)\n",
    "    print(\"----\")"
   ]
  },
  {
   "cell_type": "code",
   "execution_count": 18,
   "metadata": {},
   "outputs": [
    {
     "name": "stdout",
     "output_type": "stream",
     "text": [
      "{'agent': {'messages': [AIMessage(content='', additional_kwargs={'tool_calls': [{'id': 'call_bI7uTHk2LrxI9B4kpdBIrBHh', 'function': {'arguments': '{\"query\":\"top players of Spain national team Euro 2024\"}', 'name': 'tavily_search_results_json'}, 'type': 'function'}]}, response_metadata={'token_usage': {'completion_tokens': 27, 'prompt_tokens': 1764, 'total_tokens': 1791, 'completion_tokens_details': {'audio_tokens': 0, 'reasoning_tokens': 0, 'accepted_prediction_tokens': 0, 'rejected_prediction_tokens': 0}, 'prompt_tokens_details': {'audio_tokens': 0, 'cached_tokens': 0}}, 'model_name': 'gpt-3.5-turbo-0125', 'system_fingerprint': None, 'finish_reason': 'tool_calls', 'logprobs': None}, id='run-0efd7059-7feb-42aa-a933-993e716ee6cf-0', tool_calls=[{'name': 'tavily_search_results_json', 'args': {'query': 'top players of Spain national team Euro 2024'}, 'id': 'call_bI7uTHk2LrxI9B4kpdBIrBHh', 'type': 'tool_call'}], usage_metadata={'input_tokens': 1764, 'output_tokens': 27, 'total_tokens': 1791})]}}\n",
      "----\n",
      "{'tools': {'messages': [ToolMessage(content='[{\"url\": \"https://www.fourfourtwo.com/features/spain-euro-2024-squad-team-line-up-players-germany\", \"content\": \"Spain Euro 2024 squad: The final 26-man team. GK: Alex Remiro (Real Sociedad) ... Spain Euro 2024 top scorers. 3 goals: ... no Spain player is suspended for the final. Robin Le Normand and Dani\"}, {\"url\": \"https://www.bbc.com/sport/football/articles/c4nnlj8v6jdo\", \"content\": \"Lamine Yamal, left, and Nico Williams have been standout players for Spain so far at Euro 2024 Spain\\'s wingers Williams and Yamal have a combined age of just 37.\"}, {\"url\": \"https://prosoccerwire.usatoday.com/lists/spain-euro-2024-squad/\", \"content\": \"Pro Soccer Wire Staff. June 7, 2024 9:30 am ET. Spain head coach Luis de la Fuente has named his final 26-man roster for Euro 2024. De la Fuente originally named a 29-man squad, with Pau Cubarsí, Marcos Llorente and Aleix García the final cuts. La Roja will be among the favorites in Germany, as they aim to win the tournament for the first\"}]', name='tavily_search_results_json', tool_call_id='call_bI7uTHk2LrxI9B4kpdBIrBHh')]}}\n",
      "----\n",
      "{'agent': {'messages': [AIMessage(content='Some of the top stars of the Spain national team in the 2024 soccer Eurocup were Lamine Yamal and Nico Williams. They were standout players for Spain during the tournament.', response_metadata={'token_usage': {'completion_tokens': 38, 'prompt_tokens': 2088, 'total_tokens': 2126, 'completion_tokens_details': {'audio_tokens': 0, 'reasoning_tokens': 0, 'accepted_prediction_tokens': 0, 'rejected_prediction_tokens': 0}, 'prompt_tokens_details': {'audio_tokens': 0, 'cached_tokens': 0}}, 'model_name': 'gpt-3.5-turbo-0125', 'system_fingerprint': None, 'finish_reason': 'stop', 'logprobs': None}, id='run-3aeaa3b4-2070-4722-8382-150b3fbb7166-0', usage_metadata={'input_tokens': 2088, 'output_tokens': 38, 'total_tokens': 2126})]}}\n",
      "----\n"
     ]
    }
   ],
   "source": [
    "for chunk in agent_executor.stream(\n",
    "    {\"messages\": [HumanMessage(content=\"Who were the top stars of that winner team?\")]}, config\n",
    "):\n",
    "    print(chunk)\n",
    "    print(\"----\")"
   ]
  },
  {
   "cell_type": "code",
   "execution_count": null,
   "metadata": {},
   "outputs": [
    {
     "name": "stdout",
     "output_type": "stream",
     "text": [
      "{'agent': {'messages': [AIMessage(content='We were discussing the Spain national soccer team and their victory in the 2024 soccer Eurocup. If you have any more questions or need further information, feel free to ask!', response_metadata={'token_usage': {'completion_tokens': 37, 'prompt_tokens': 2141, 'total_tokens': 2178, 'completion_tokens_details': {'audio_tokens': 0, 'reasoning_tokens': 0, 'accepted_prediction_tokens': 0, 'rejected_prediction_tokens': 0}, 'prompt_tokens_details': {'audio_tokens': 0, 'cached_tokens': 0}}, 'model_name': 'gpt-3.5-turbo-0125', 'system_fingerprint': None, 'finish_reason': 'stop', 'logprobs': None}, id='run-03a75b3f-3017-4a6a-a39a-84f1060ffd0b-0', usage_metadata={'input_tokens': 2141, 'output_tokens': 37, 'total_tokens': 2178})]}}\n",
      "----\n"
     ]
    }
   ],
   "source": [
    "config = {\"configurable\": {\"thread_id\": \"002\"}}\n",
    "for chunk in agent_executor.stream(\n",
    "    {\"messages\": [HumanMessage(content=\"About what soccer team we were talking?\")]}, config\n",
    "):\n",
    "    print(chunk)\n",
    "    print(\"----\")"
   ]
  },
  {
   "cell_type": "code",
   "execution_count": null,
   "metadata": {},
   "outputs": [],
   "source": []
  }
 ],
 "metadata": {
  "kernelspec": {
   "display_name": "llmapp",
   "language": "python",
   "name": "python3"
  },
  "language_info": {
   "codemirror_mode": {
    "name": "ipython",
    "version": 3
   },
   "file_extension": ".py",
   "mimetype": "text/x-python",
   "name": "python",
   "nbconvert_exporter": "python",
   "pygments_lexer": "ipython3",
   "version": "3.11.10"
  }
 },
 "nbformat": 4,
 "nbformat_minor": 2
}
