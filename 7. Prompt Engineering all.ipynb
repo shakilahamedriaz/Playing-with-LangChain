{
 "cells": [
  {
   "cell_type": "markdown",
   "id": "5d8184de",
   "metadata": {},
   "source": [
    "## Prompt Engineering in LangChain – Short Notes"
   ]
  },
  {
   "cell_type": "markdown",
   "id": "1d2222f6",
   "metadata": {},
   "source": [
    "### 🔹 1. Zero-Shot Prompt\n",
    "\n",
    "👉 Just instruction, no examples"
   ]
  },
  {
   "cell_type": "code",
   "execution_count": 1,
   "id": "add5cffa",
   "metadata": {},
   "outputs": [
    {
     "name": "stdout",
     "output_type": "stream",
     "text": [
      "Translate this text to Spanish:\n",
      "I love programming.\n"
     ]
    }
   ],
   "source": [
    "from langchain_core.prompts import PromptTemplate\n",
    "\n",
    "zero_shot = PromptTemplate.from_template(\n",
    "    \"Translate this text to Spanish:\\n{text}\"\n",
    ")\n",
    "print(zero_shot.format(text=\"I love programming.\"))"
   ]
  },
  {
   "cell_type": "markdown",
   "id": "5d390504",
   "metadata": {},
   "source": [
    "### 🔹 2. Few-Shot Prompt\n",
    "\n",
    "👉 Provide examples + new input.\n"
   ]
  },
  {
   "cell_type": "code",
   "execution_count": 3,
   "id": "dce2b413",
   "metadata": {},
   "outputs": [
    {
     "name": "stdout",
     "output_type": "stream",
     "text": [
      "Q: 2+2\n",
      "A: 4\n",
      "\n",
      "Q: 3*3\n",
      "A: 9\n",
      "\n",
      "Q: 5-2\n",
      "A:\n"
     ]
    }
   ],
   "source": [
    "from langchain_core.prompts import PromptTemplate, FewShotPromptTemplate\n",
    "\n",
    "examples = [\n",
    "    {\"q\": \"2+2\", \"a\": \"4\"},\n",
    "    {\"q\": \"3*3\", \"a\": \"9\"},\n",
    "]\n",
    "\n",
    "example_prompt = PromptTemplate.from_template(\"Q: {q}\\nA: {a}\")\n",
    "\n",
    "few_shot = FewShotPromptTemplate(\n",
    "    examples=examples,\n",
    "    example_prompt=example_prompt,\n",
    "    suffix=\"Q: {question}\\nA:\",\n",
    "    input_variables=[\"question\"],\n",
    ")\n",
    "\n",
    "print(few_shot.format(question=\"5-2\"))\n"
   ]
  },
  {
   "cell_type": "markdown",
   "id": "0908266c",
   "metadata": {},
   "source": [
    "### 🔹 3. Chat Prompt (Role Prompting)\n",
    "\n",
    "👉 Define roles: System, Human, AI"
   ]
  },
  {
   "cell_type": "code",
   "execution_count": 6,
   "id": "94ccc731",
   "metadata": {},
   "outputs": [
    {
     "name": "stdout",
     "output_type": "stream",
     "text": [
      "System: You are a helpful tutor.\n",
      "Human: Explain Machine Learning in simple words.\n"
     ]
    }
   ],
   "source": [
    "from langchain_core.prompts import ChatPromptTemplate\n",
    "\n",
    "chat_prompt = ChatPromptTemplate.from_messages([\n",
    "    (\"system\", \"You are a helpful tutor.\"),\n",
    "    (\"human\", \"Explain {topic} in simple words.\"),\n",
    "])\n",
    "\n",
    "print(chat_prompt.format(topic=\"Machine Learning\"))\n"
   ]
  },
  {
   "cell_type": "markdown",
   "id": "55f96afd",
   "metadata": {},
   "source": [
    "### 🔹 4. Chain-of-Thought (Reasoning Prompt)\n",
    "\n",
    "👉 Ask AI to explain step by step."
   ]
  },
  {
   "cell_type": "code",
   "execution_count": 7,
   "id": "d893e344",
   "metadata": {},
   "outputs": [
    {
     "name": "stdout",
     "output_type": "stream",
     "text": [
      "Solve this step by step:\n",
      "Question: 23 * 47\n"
     ]
    }
   ],
   "source": [
    "cot_prompt = PromptTemplate.from_template(\n",
    "    \"Solve this step by step:\\nQuestion: {question}\"\n",
    ")\n",
    "print(cot_prompt.format(question=\"23 * 47\"))\n"
   ]
  },
  {
   "cell_type": "markdown",
   "id": "1fdc2a16",
   "metadata": {},
   "source": [
    "### 🔹 5. Output Formatting (Parser Prompt)\n",
    "\n",
    "👉 Enforce structured output (e.g., JSON, list)."
   ]
  },
  {
   "cell_type": "code",
   "execution_count": 8,
   "id": "6ab67a46",
   "metadata": {},
   "outputs": [
    {
     "name": "stdout",
     "output_type": "stream",
     "text": [
      "List 3 programming languages.\n",
      "Your response should be a list of comma separated values, eg: `foo, bar, baz` or `foo,bar,baz`\n"
     ]
    }
   ],
   "source": [
    "from langchain.output_parsers import CommaSeparatedListOutputParser\n",
    "from langchain_core.prompts import PromptTemplate\n",
    "\n",
    "parser = CommaSeparatedListOutputParser()\n",
    "instructions = parser.get_format_instructions()\n",
    "\n",
    "format_prompt = PromptTemplate(\n",
    "    template=\"List 3 programming languages.\\n{instructions}\",\n",
    "    input_variables=[],\n",
    "    partial_variables={\"instructions\": instructions},\n",
    ")\n",
    "\n",
    "print(format_prompt.format())"
   ]
  }
 ],
 "metadata": {
  "kernelspec": {
   "display_name": "Python 3",
   "language": "python",
   "name": "python3"
  },
  "language_info": {
   "codemirror_mode": {
    "name": "ipython",
    "version": 3
   },
   "file_extension": ".py",
   "mimetype": "text/x-python",
   "name": "python",
   "nbconvert_exporter": "python",
   "pygments_lexer": "ipython3",
   "version": "3.12.10"
  }
 },
 "nbformat": 4,
 "nbformat_minor": 5
}
