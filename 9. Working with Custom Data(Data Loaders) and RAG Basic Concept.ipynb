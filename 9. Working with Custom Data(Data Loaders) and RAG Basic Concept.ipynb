{
 "cells": [
  {
   "cell_type": "markdown",
   "id": "c00de9a1",
   "metadata": {},
   "source": [
    "## 👉 Working with your own data (via Data Loaders)\n",
    "## 👉 Retrieval-Augmented Generation (RAG)"
   ]
  },
  {
   "cell_type": "markdown",
   "id": "f1992906",
   "metadata": {},
   "source": [
    "# Agenda:\n",
    "1. Data loader - how to work with custom data\n",
    "2. Introduction to RAG - Retrival Augmented Generation\n",
    "3. Spiltters\n",
    "4. Embeddings\n",
    "5. Vector Store\n",
    "6. Retriver\n",
    "7. Top K\n",
    "\n",
    "Next: RAG with LCEL"
   ]
  },
  {
   "cell_type": "markdown",
   "id": "f68e964a",
   "metadata": {},
   "source": [
    "### 🔹 1. Working with Custom Data (Data Loaders)\n",
    "\n",
    "LLMs like GPT are powerful, but they don’t know your private PDFs, docs, or DBs.\n",
    "So LangChain gives us Document Loaders to bring your own data inside.\n",
    "\n",
    "✨ Steps:\n",
    "\n",
    "Load data (PDF, TXT, CSV, URL, DB, JSOn etc.)\n",
    "\n",
    "Split into chunks (LLMs can’t handle huge docs at once).\n",
    "\n",
    "Store in a Vector Database (for similarity search).\n",
    "\n",
    "Use RAG pipeline → ask questions over your data."
   ]
  },
  {
   "cell_type": "markdown",
   "id": "9efc2aaa",
   "metadata": {},
   "source": [
    "#### Example: Loading a PDF"
   ]
  },
  {
   "cell_type": "code",
   "execution_count": 1,
   "id": "505ee1c9",
   "metadata": {},
   "outputs": [
    {
     "ename": "ModuleNotFoundError",
     "evalue": "No module named 'langchain_community'",
     "output_type": "error",
     "traceback": [
      "\u001b[31m---------------------------------------------------------------------------\u001b[39m",
      "\u001b[31mModuleNotFoundError\u001b[39m                       Traceback (most recent call last)",
      "\u001b[36mCell\u001b[39m\u001b[36m \u001b[39m\u001b[32mIn[1]\u001b[39m\u001b[32m, line 1\u001b[39m\n\u001b[32m----> \u001b[39m\u001b[32m1\u001b[39m \u001b[38;5;28;01mfrom\u001b[39;00m\u001b[38;5;250m \u001b[39m\u001b[34;01mlangchain_community\u001b[39;00m\u001b[34;01m.\u001b[39;00m\u001b[34;01mdocument_loaders\u001b[39;00m\u001b[38;5;250m \u001b[39m\u001b[38;5;28;01mimport\u001b[39;00m PyPDFLoader\n\u001b[32m      3\u001b[39m \u001b[38;5;66;03m# 1. Load your PDF\u001b[39;00m\n\u001b[32m      4\u001b[39m loader = PyPDFLoader(\u001b[33m\"\u001b[39m\u001b[33msample.pdf\u001b[39m\u001b[33m\"\u001b[39m)\n",
      "\u001b[31mModuleNotFoundError\u001b[39m: No module named 'langchain_community'"
     ]
    }
   ],
   "source": [
    "from langchain_community.document_loaders import PyPDFLoader\n",
    "\n",
    "# 1. Load your PDF\n",
    "loader = PyPDFLoader(\"sample.pdf\")\n",
    "docs = loader.load()\n",
    "\n",
    "print(docs[0].page_content[:500])  # See first 500 chars\n"
   ]
  },
  {
   "cell_type": "markdown",
   "id": "3c10f14e",
   "metadata": {},
   "source": [
    "#### Example: Splitting Documents"
   ]
  },
  {
   "cell_type": "code",
   "execution_count": null,
   "id": "7b69eb2c",
   "metadata": {},
   "outputs": [],
   "source": [
    "from langchain_text_splitters import RecursiveCharacterTextSplitter\n",
    "\n",
    "text_splitter = RecursiveCharacterTextSplitter(chunk_size=500, chunk_overlap=50)\n",
    "chunks = text_splitter.split_documents(docs)\n",
    "\n",
    "print(len(chunks))\n",
    "print(chunks[0].page_content)"
   ]
  },
  {
   "cell_type": "markdown",
   "id": "43e0107f",
   "metadata": {},
   "source": [
    "### 🔹 2. RAG (Retrieval-Augmented Generation) — Basic Concept\n",
    "\n",
    "Problem: LLMs often \"hallucinate\" (make up answers).\n",
    "Solution: Instead of relying only on the model’s memory → give it retrieved data from your documents.\n",
    "\n",
    "✨ How RAG Works\n",
    "\n",
    "User Question → \"What is space weather?\"\n",
    "\n",
    "Retriever (Vector DB) finds relevant chunks from your docs.\n",
    "\n",
    "LLM combines both (prompt + retrieved data) to give grounded answers."
   ]
  },
  {
   "cell_type": "markdown",
   "id": "62498b6b",
   "metadata": {},
   "source": [
    "#### 🔹 Simple RAG Example with FAISS"
   ]
  },
  {
   "cell_type": "code",
   "execution_count": null,
   "id": "fd53ff18",
   "metadata": {},
   "outputs": [],
   "source": [
    "from langchain_openai import OpenAIEmbeddings, ChatOpenAI\n",
    "from langchain_community.vectorstores import FAISS\n",
    "from langchain.chains import RetrievalQA\n",
    "\n",
    "# 1. Embeddings (turn text into vectors)\n",
    "embeddings = OpenAIEmbeddings(model=\"text-embedding-3-small\")\n",
    "\n",
    "# 2. Store in FAISS (local vector DB)\n",
    "vectorstore = FAISS.from_documents(chunks, embeddings)\n",
    "\n",
    "# 3. Retriever\n",
    "retriever = vectorstore.as_retriever()\n",
    "\n",
    "# 4. RAG Chain\n",
    "llm = ChatOpenAI(model=\"gpt-3.5-turbo\")\n",
    "qa = RetrievalQA.from_chain_type(llm, retriever=retriever)\n",
    "\n",
    "# 5. Ask Question\n",
    "query = \"Summarize this document in 3 bullet points.\"\n",
    "result = qa.run(query)\n",
    "\n",
    "print(result)\n"
   ]
  },
  {
   "cell_type": "markdown",
   "id": "493c3e8b",
   "metadata": {},
   "source": [
    "🔹 Key Idea:\n",
    "\n",
    "Without RAG → Model answers from its own knowledge (may be outdated/wrong).\n",
    "\n",
    "With RAG → Model answers from your documents (reliable, context-aware).\n",
    "\n",
    "✅ You can use loaders for:\n",
    "\n",
    "PDFs → PyPDFLoader\n",
    "\n",
    "Word Docs → Docx2txtLoader\n",
    "\n",
    "Websites → WebBaseLoader\n",
    "\n",
    "Notion, Slack, DBs → Special loaders"
   ]
  },
  {
   "cell_type": "markdown",
   "id": "4b3f3acc",
   "metadata": {},
   "source": [
    "# MCP Server (letter we will leran)"
   ]
  },
  {
   "cell_type": "markdown",
   "id": "b5217588",
   "metadata": {},
   "source": [
    "\n",
    "MCP server নিয়ে একটা **সহজ ছোট নোটস** বানাই—যাতে দ্রুত পড়লে পরিষ্কার আইডিয়া পাওয়া যায়।\n",
    "\n",
    "---\n",
    "\n",
    "# 📒 Easy Notes on MCP Server\n",
    "\n",
    "### 🔹 What is MCP Server?\n",
    "\n",
    "👉 **MCP (Model Context Protocol) server = দরকারি জায়গা থেকে দরকারি তথ্য এনে LLM কে খাওয়ানো।**\n",
    "এটা basically এক ধরনের **middle layer**, যেখানে LLM সরাসরি সব data বা API access না করে MCP server এর মাধ্যমে data নেয়।\n",
    "\n",
    "---\n",
    "\n",
    "### 🔹 Why MCP Server?\n",
    "\n",
    "* LLM সবকিছু জানে না → নিজের knowledge এ সীমাবদ্ধ।\n",
    "* Custom data / company data দরকার হলে MCP দিয়ে দেওয়া হয়।\n",
    "* নিরাপদ, কারণ LLM কে direct DB/API access দিতে হয় না।\n",
    "\n",
    "---\n",
    "\n",
    "### 🔹 How it Works (Flow)\n",
    "\n",
    "1. **User প্রশ্ন করে** → e.g., “Remote work policy কী?”\n",
    "2. **LLM Agent** → MCP server কে call করে।\n",
    "3. **MCP Server** → relevant system/doc (PDF, DB, API) থেকে info আনে।\n",
    "4. **LLM** → সেই data দিয়ে answer generate করে।\n",
    "\n",
    "---\n",
    "\n",
    "### 🔹 Example Use Cases\n",
    "\n",
    "* **HR Policies** → Employee handbook থেকে policy আনা।\n",
    "* **Customer Support** → CRM থেকে customer history আনা।\n",
    "* **Finance** → Payroll বা invoice DB থেকে তথ্য আনা।\n",
    "* **DevOps** → Server health check বা logs আনা।\n",
    "\n",
    "---\n",
    "\n",
    "### 🔹 Benefits\n",
    "\n",
    "✅ **Grounded Answer** → hallucination কমে।\n",
    "✅ **Standardized Access** → সব data source এ এক format এ access।\n",
    "✅ **Security** → সীমিত access control।\n",
    "✅ **Reusable** → একবার MCP বানালে agent সহজে use করতে পারে।\n",
    "\n",
    "---\n",
    "\n",
    "### 🔹 Relation with RAG\n",
    "\n",
    "* **RAG** = নিজের data (PDF, Docs, DB) থেকে answer বানানো।\n",
    "* **MCP** = সেই retriever / tool কে একটা **standard server** হিসেবে expose করা।\n",
    "\n",
    "👉 বলা যায়:\n",
    "**RAG = concept** (retrieve + generate)\n",
    "**MCP = technology** (standard way to serve data/tools to LLM)\n",
    "\n",
    "---\n",
    "\n",
    "# 📝 Quick Summary\n",
    "\n",
    "* **MCP server = middleman** → LLM ↔ Data/API.\n",
    "* **Job** → শুধু দরকারি তথ্য এনে দেওয়া।\n",
    "* **Use Cases** → HR, Finance, Support, DevOps, Knowledge base.\n",
    "* **Benefit** → safe, reusable, no hallucination, standardized.\n",
    "\n",
    "---"
   ]
  }
 ],
 "metadata": {
  "kernelspec": {
   "display_name": "Python 3",
   "language": "python",
   "name": "python3"
  },
  "language_info": {
   "codemirror_mode": {
    "name": "ipython",
    "version": 3
   },
   "file_extension": ".py",
   "mimetype": "text/x-python",
   "name": "python",
   "nbconvert_exporter": "python",
   "pygments_lexer": "ipython3",
   "version": "3.12.10"
  }
 },
 "nbformat": 4,
 "nbformat_minor": 5
}
