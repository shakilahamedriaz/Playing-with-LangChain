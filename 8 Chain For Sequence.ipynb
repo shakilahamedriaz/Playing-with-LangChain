{
 "cells": [
  {
   "cell_type": "markdown",
   "id": "99e914ee",
   "metadata": {},
   "source": [
    "##  let’s go step by step about Chains in LangChain"
   ]
  },
  {
   "cell_type": "markdown",
   "id": "3ed482bc",
   "metadata": {},
   "source": [
    "#### 🔹 What is a Chain?\n",
    "\n",
    "A Chain = a sequence of steps that connect an LLM (or multiple tools) together.\n",
    "\n",
    "Instead of calling the model directly, you chain prompts, models, and outputs to create pipelines.\n",
    "\n",
    "Example:\n",
    "\n",
    "User Question → Prompt → LLM → Parse Output → Return Answer\n",
    "\n",
    "So, a chain is like a workflow manager."
   ]
  },
  {
   "cell_type": "markdown",
   "id": "1f74afc4",
   "metadata": {},
   "source": [
    "#### 🔹 Why Chains?\n",
    "\n",
    "Without chains: you have to manually manage prompts and responses.\n",
    "\n",
    "With chains: you can reuse, standardize, and combine multiple steps.\n",
    "\n",
    "Helps in tasks like translation, Q&A, RAG, SQL generation, summarization, etc."
   ]
  },
  {
   "cell_type": "markdown",
   "id": "5b1ea2e6",
   "metadata": {},
   "source": [
    "#### 🔹 Types of Chains\n",
    "\n",
    "LLMChain → the simplest, just prompt + LLM.\n",
    "\n",
    "SequentialChain → output of one chain = input of another.\n",
    "\n",
    "RetrievalQAChain → combines a retriever (vector search) with an LLM for RAG.\n",
    "\n",
    "Custom Chains → you can build your own."
   ]
  },
  {
   "cell_type": "markdown",
   "id": "038a69d4",
   "metadata": {},
   "source": [
    "### 🔹 Example: Simple LLMChain"
   ]
  },
  {
   "cell_type": "code",
   "execution_count": null,
   "id": "66b60287",
   "metadata": {},
   "outputs": [],
   "source": [
    "from langchain_openai import ChatOpenAI\n",
    "from langchain.chains import LLMChain\n",
    "from langchain.prompts import PromptTemplate\n",
    "\n",
    "# 1. Define the model\n",
    "llm = ChatOpenAI(model=\"gpt-3.5-turbo\")\n",
    "\n",
    "# 2. Create a prompt template\n",
    "prompt = PromptTemplate(\n",
    "    input_variables=[\"language\", \"text\"],\n",
    "    template=\"Translate the following text to {language}: {text}\"\n",
    ")\n",
    "\n",
    "# 3. Make a chain\n",
    "chain = LLMChain(llm=llm, prompt=prompt)\n",
    "\n",
    "# 4. Run the chain\n",
    "result = chain.run(language=\"Spanish\", text=\"Hello, how are you?\")\n",
    "print(result)\n"
   ]
  },
  {
   "cell_type": "markdown",
   "id": "aaf9fd88",
   "metadata": {},
   "source": [
    "✅ Output: \"Hola, ¿cómo estás?\""
   ]
  },
  {
   "cell_type": "markdown",
   "id": "246cfa71",
   "metadata": {},
   "source": [
    "### 🔹 Example: Sequential Chain\n",
    "\n",
    "You can connect multiple chains:"
   ]
  },
  {
   "cell_type": "code",
   "execution_count": null,
   "id": "bfd72eea",
   "metadata": {},
   "outputs": [],
   "source": [
    "from langchain.chains import SimpleSequentialChain\n",
    "\n",
    "# Chain 1: English → Spanish\n",
    "chain1 = LLMChain(llm=llm, prompt=PromptTemplate(\n",
    "    input_variables=[\"text\"],\n",
    "    template=\"Translate this text to Spanish: {text}\"\n",
    "))\n",
    "\n",
    "# Chain 2: Spanish → French\n",
    "chain2 = LLMChain(llm=llm, prompt=PromptTemplate(\n",
    "    input_variables=[\"text\"],\n",
    "    template=\"Translate this text to French: {text}\"\n",
    "))\n",
    "\n",
    "# Connect them\n",
    "seq_chain = SimpleSequentialChain(chains=[chain1, chain2])\n",
    "\n",
    "result = seq_chain.run(\"Hello, how are you?\")\n",
    "print(result)\n"
   ]
  },
  {
   "cell_type": "code",
   "execution_count": null,
   "id": "64f155c7",
   "metadata": {},
   "outputs": [],
   "source": [
    "✅ Output: \"Bonjour, comment ça va ?\""
   ]
  },
  {
   "cell_type": "markdown",
   "id": "b4329ff1",
   "metadata": {},
   "source": [
    "## 🔹 Big Picture\n",
    "\n",
    "Prompting = single instruction to an LLM.\n",
    "\n",
    "Chains = combine multiple prompts, LLMs, or tools into a workflow.\n",
    "\n",
    "Agents = more advanced, where the LLM decides which tool/chain to use."
   ]
  },
  {
   "cell_type": "markdown",
   "id": "fd624ae4",
   "metadata": {},
   "source": []
  }
 ],
 "metadata": {
  "kernelspec": {
   "display_name": "Python 3",
   "language": "python",
   "name": "python3"
  },
  "language_info": {
   "codemirror_mode": {
    "name": "ipython",
    "version": 3
   },
   "file_extension": ".py",
   "mimetype": "text/x-python",
   "name": "python",
   "nbconvert_exporter": "python",
   "pygments_lexer": "ipython3",
   "version": "3.12.10"
  }
 },
 "nbformat": 4,
 "nbformat_minor": 5
}
